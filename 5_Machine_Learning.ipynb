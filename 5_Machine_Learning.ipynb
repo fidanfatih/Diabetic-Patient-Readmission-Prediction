{
 "cells": [
  {
   "cell_type": "markdown",
   "metadata": {},
   "source": [
    "# General Overview - Machine Learning"
   ]
  },
  {
   "cell_type": "markdown",
   "metadata": {},
   "source": [
    "### Import and Load"
   ]
  },
  {
   "cell_type": "code",
   "execution_count": 6,
   "metadata": {},
   "outputs": [],
   "source": [
    "# for basic operations\n",
    "import numpy as np \n",
    "import pandas as pd \n",
    "\n",
    "# for visualizations\n",
    "import matplotlib.pyplot as plt\n",
    "import seaborn as sns\n",
    "from pylab import rcParams\n",
    "# rcParams['figure.figsize'] = 4,4\n",
    "# plt.style.use('fivethirtyeight')\n",
    "\n",
    "from collections import Counter\n",
    "\n",
    "# for modeling \n",
    "import sklearn\n",
    "from xgboost.sklearn import XGBClassifier\n",
    "from sklearn.metrics import confusion_matrix, classification_report, plot_precision_recall_curve, precision_recall_curve\n",
    "from sklearn.metrics import roc_curve, roc_auc_score\n",
    "from sklearn.model_selection import GridSearchCV, RandomizedSearchCV, cross_val_score, train_test_split, KFold\n",
    "from sklearn.preprocessing import StandardScaler\n",
    "from sklearn.ensemble import RandomForestClassifier\n",
    "from sklearn.linear_model import LogisticRegression\n",
    "from sklearn import datasets, metrics\n",
    "from sklearn.tree import DecisionTreeClassifier\n",
    "from sklearn.naive_bayes import GaussianNB\n",
    "from sklearn.svm import SVC\n",
    "from sklearn.decomposition import PCA\n",
    "\n",
    "import imblearn\n",
    "from imblearn.under_sampling import RandomUnderSampler\n",
    "from imblearn.over_sampling import SMOTE\n",
    "\n",
    "# to avoid warnings\n",
    "import warnings\n",
    "warnings.filterwarnings('ignore')\n",
    "warnings.warn(\"this will not show\")"
   ]
  },
  {
   "cell_type": "code",
   "execution_count": 7,
   "metadata": {},
   "outputs": [
    {
     "data": {
      "text/html": [
       "<div>\n",
       "<style scoped>\n",
       "    .dataframe tbody tr th:only-of-type {\n",
       "        vertical-align: middle;\n",
       "    }\n",
       "\n",
       "    .dataframe tbody tr th {\n",
       "        vertical-align: top;\n",
       "    }\n",
       "\n",
       "    .dataframe thead th {\n",
       "        text-align: right;\n",
       "    }\n",
       "</style>\n",
       "<table border=\"1\" class=\"dataframe\">\n",
       "  <thead>\n",
       "    <tr style=\"text-align: right;\">\n",
       "      <th></th>\n",
       "      <th>time_in_hospital</th>\n",
       "      <th>num_lab_procedures</th>\n",
       "      <th>num_procedures</th>\n",
       "      <th>num_medications</th>\n",
       "      <th>number_outpatient</th>\n",
       "      <th>number_inpatient</th>\n",
       "      <th>number_diagnoses</th>\n",
       "      <th>race_Asian</th>\n",
       "      <th>race_Caucasian</th>\n",
       "      <th>race_Hispanic</th>\n",
       "      <th>...</th>\n",
       "      <th>rosiglitazone_No</th>\n",
       "      <th>rosiglitazone_Up</th>\n",
       "      <th>acarbose_Steady</th>\n",
       "      <th>acarbose_Up</th>\n",
       "      <th>insulin_No</th>\n",
       "      <th>insulin_Steady</th>\n",
       "      <th>insulin_Up</th>\n",
       "      <th>change_No</th>\n",
       "      <th>diabetesMed_Yes</th>\n",
       "      <th>readmitted_YES</th>\n",
       "    </tr>\n",
       "  </thead>\n",
       "  <tbody>\n",
       "    <tr>\n",
       "      <th>0</th>\n",
       "      <td>3</td>\n",
       "      <td>59</td>\n",
       "      <td>0</td>\n",
       "      <td>18</td>\n",
       "      <td>0</td>\n",
       "      <td>0</td>\n",
       "      <td>9</td>\n",
       "      <td>0</td>\n",
       "      <td>1</td>\n",
       "      <td>0</td>\n",
       "      <td>...</td>\n",
       "      <td>1</td>\n",
       "      <td>0</td>\n",
       "      <td>0</td>\n",
       "      <td>0</td>\n",
       "      <td>0</td>\n",
       "      <td>0</td>\n",
       "      <td>1</td>\n",
       "      <td>0</td>\n",
       "      <td>1</td>\n",
       "      <td>1</td>\n",
       "    </tr>\n",
       "    <tr>\n",
       "      <th>1</th>\n",
       "      <td>2</td>\n",
       "      <td>11</td>\n",
       "      <td>5</td>\n",
       "      <td>13</td>\n",
       "      <td>2</td>\n",
       "      <td>1</td>\n",
       "      <td>6</td>\n",
       "      <td>0</td>\n",
       "      <td>0</td>\n",
       "      <td>0</td>\n",
       "      <td>...</td>\n",
       "      <td>1</td>\n",
       "      <td>0</td>\n",
       "      <td>0</td>\n",
       "      <td>0</td>\n",
       "      <td>1</td>\n",
       "      <td>0</td>\n",
       "      <td>0</td>\n",
       "      <td>1</td>\n",
       "      <td>1</td>\n",
       "      <td>0</td>\n",
       "    </tr>\n",
       "    <tr>\n",
       "      <th>2</th>\n",
       "      <td>2</td>\n",
       "      <td>44</td>\n",
       "      <td>1</td>\n",
       "      <td>16</td>\n",
       "      <td>0</td>\n",
       "      <td>0</td>\n",
       "      <td>7</td>\n",
       "      <td>0</td>\n",
       "      <td>1</td>\n",
       "      <td>0</td>\n",
       "      <td>...</td>\n",
       "      <td>1</td>\n",
       "      <td>0</td>\n",
       "      <td>0</td>\n",
       "      <td>0</td>\n",
       "      <td>0</td>\n",
       "      <td>0</td>\n",
       "      <td>1</td>\n",
       "      <td>0</td>\n",
       "      <td>1</td>\n",
       "      <td>0</td>\n",
       "    </tr>\n",
       "    <tr>\n",
       "      <th>3</th>\n",
       "      <td>1</td>\n",
       "      <td>51</td>\n",
       "      <td>0</td>\n",
       "      <td>8</td>\n",
       "      <td>0</td>\n",
       "      <td>0</td>\n",
       "      <td>5</td>\n",
       "      <td>0</td>\n",
       "      <td>1</td>\n",
       "      <td>0</td>\n",
       "      <td>...</td>\n",
       "      <td>1</td>\n",
       "      <td>0</td>\n",
       "      <td>0</td>\n",
       "      <td>0</td>\n",
       "      <td>0</td>\n",
       "      <td>1</td>\n",
       "      <td>0</td>\n",
       "      <td>0</td>\n",
       "      <td>1</td>\n",
       "      <td>0</td>\n",
       "    </tr>\n",
       "    <tr>\n",
       "      <th>4</th>\n",
       "      <td>3</td>\n",
       "      <td>31</td>\n",
       "      <td>6</td>\n",
       "      <td>16</td>\n",
       "      <td>0</td>\n",
       "      <td>0</td>\n",
       "      <td>9</td>\n",
       "      <td>0</td>\n",
       "      <td>1</td>\n",
       "      <td>0</td>\n",
       "      <td>...</td>\n",
       "      <td>1</td>\n",
       "      <td>0</td>\n",
       "      <td>0</td>\n",
       "      <td>0</td>\n",
       "      <td>0</td>\n",
       "      <td>1</td>\n",
       "      <td>0</td>\n",
       "      <td>1</td>\n",
       "      <td>1</td>\n",
       "      <td>1</td>\n",
       "    </tr>\n",
       "  </tbody>\n",
       "</table>\n",
       "<p>5 rows × 55 columns</p>\n",
       "</div>"
      ],
      "text/plain": [
       "   time_in_hospital  num_lab_procedures  num_procedures  num_medications  \\\n",
       "0                 3                  59               0               18   \n",
       "1                 2                  11               5               13   \n",
       "2                 2                  44               1               16   \n",
       "3                 1                  51               0                8   \n",
       "4                 3                  31               6               16   \n",
       "\n",
       "   number_outpatient  number_inpatient  number_diagnoses  race_Asian  \\\n",
       "0                  0                 0                 9           0   \n",
       "1                  2                 1                 6           0   \n",
       "2                  0                 0                 7           0   \n",
       "3                  0                 0                 5           0   \n",
       "4                  0                 0                 9           0   \n",
       "\n",
       "   race_Caucasian  race_Hispanic  ...  rosiglitazone_No  rosiglitazone_Up  \\\n",
       "0               1              0  ...                 1                 0   \n",
       "1               0              0  ...                 1                 0   \n",
       "2               1              0  ...                 1                 0   \n",
       "3               1              0  ...                 1                 0   \n",
       "4               1              0  ...                 1                 0   \n",
       "\n",
       "   acarbose_Steady  acarbose_Up  insulin_No  insulin_Steady  insulin_Up  \\\n",
       "0                0            0           0               0           1   \n",
       "1                0            0           1               0           0   \n",
       "2                0            0           0               0           1   \n",
       "3                0            0           0               1           0   \n",
       "4                0            0           0               1           0   \n",
       "\n",
       "   change_No  diabetesMed_Yes  readmitted_YES  \n",
       "0          0                1               1  \n",
       "1          1                1               0  \n",
       "2          0                1               0  \n",
       "3          0                1               0  \n",
       "4          1                1               1  \n",
       "\n",
       "[5 rows x 55 columns]"
      ]
     },
     "execution_count": 7,
     "metadata": {},
     "output_type": "execute_result"
    }
   ],
   "source": [
    "data = pd.read_csv('diabetic_data_cleaned_dummy.csv', index_col=0)\n",
    "df = data.copy()\n",
    "\n",
    "df.head()"
   ]
  },
  {
   "cell_type": "markdown",
   "metadata": {},
   "source": [
    "### Lazy Predict with 5000 samples"
   ]
  },
  {
   "cell_type": "code",
   "execution_count": 8,
   "metadata": {},
   "outputs": [],
   "source": [
    "# from lazypredict.Supervised import LazyClassifier\n",
    "\n",
    "# df_5000 = df.sample(5000,random_state=42)\n",
    "# y = df_5000['readmitted_YES']\n",
    "# X = df_5000.drop('readmitted_YES', axis=1)\n",
    "# X_train, X_test, y_train, y_test = train_test_split(X, y, stratify=y, random_state =42)\n",
    "\n",
    "# sc = StandardScaler()\n",
    "# X_train = sc.fit_transform(X_train)\n",
    "# X_test = sc.transform(X_test)\n",
    "\n",
    "# clf = LazyClassifier(verbose=0,ignore_warnings=True, custom_metric=None)\n",
    "# models,predictions = clf.fit(X_train, X_test, y_train, y_test)\n",
    "# models"
   ]
  },
  {
   "cell_type": "markdown",
   "metadata": {},
   "source": [
    "### Split Data"
   ]
  },
  {
   "cell_type": "code",
   "execution_count": 9,
   "metadata": {},
   "outputs": [
    {
     "data": {
      "image/png": "[encoded data removed]",
      "text/plain": [
       "<Figure size 432x288 with 1 Axes>"
      ]
     },
     "metadata": {
      "needs_background": "light"
     },
     "output_type": "display_data"
    }
   ],
   "source": [
    "ax = df['readmitted_YES'].value_counts(normalize=True).plot.bar()\n",
    "def labels(ax):\n",
    "    for p in ax.patches:\n",
    "        ax.annotate(f\"%{p.get_height()*100:.2f}\", (p.get_x() + 0.15, p.get_height() * 1.005),size=11)\n",
    "labels(ax)"
   ]
  },
  {
   "cell_type": "code",
   "execution_count": 10,
   "metadata": {},
   "outputs": [
    {
     "name": "stdout",
     "output_type": "stream",
     "text": [
      "shape of X_train: (48296, 54)\n",
      "shape of X_test\t: (16099, 54)\n",
      "shape of y_train: (48296,)\n",
      "shape of y_test\t: (16099,)\n"
     ]
    }
   ],
   "source": [
    "# separating the dependent and independent data\n",
    "X = df.drop('readmitted_YES', axis=1)\n",
    "y = df['readmitted_YES']\n",
    "\n",
    "# the function train_test_split creates random data samples (default: 75-25%)\n",
    "X_train, X_test, y_train, y_test = train_test_split(X, y, stratify=y, random_state=42)\n",
    "\n",
    "# getting the shapes\n",
    "print(f\"\"\"shape of X_train: {X_train.shape}\n",
    "shape of X_test\\t: {X_test.shape}\n",
    "shape of y_train: {y_train.shape}\n",
    "shape of y_test\\t: {y_test.shape}\"\"\")"
   ]
  },
  {
   "cell_type": "markdown",
   "metadata": {},
   "source": [
    "### Data Scaling"
   ]
  },
  {
   "cell_type": "code",
   "execution_count": 11,
   "metadata": {},
   "outputs": [],
   "source": [
    "# creating a standard scaler\n",
    "sc = StandardScaler()\n",
    "\n",
    "# fitting independent data to the model\n",
    "X_train = sc.fit_transform(X_train)\n",
    "X_test = sc.transform(X_test)"
   ]
  },
  {
   "attachments": {
    "CM-1024x382.png": {
     "image/png": "[encoded data removed]"
    }
   },
   "cell_type": "markdown",
   "metadata": {},
   "source": [
    "### Iteration 1: (Unbalanced data)\n",
    "![CM-1024x382.png](attachment:CM-1024x382.png)"
   ]
  },
  {
   "cell_type": "code",
   "execution_count": 12,
   "metadata": {},
   "outputs": [],
   "source": [
    "cv_acc_train = {}\n",
    "cv_acc_test = {}\n",
    "cv_TPR = {}\n",
    "cv_FPR = {}\n",
    "cv_AUC = {}"
   ]
  },
  {
   "cell_type": "code",
   "execution_count": 13,
   "metadata": {},
   "outputs": [],
   "source": [
    "def plot_result(model, name:str):\n",
    "    model.fit(X_train, y_train)\n",
    "    y_pred = model.predict(X_test)\n",
    "\n",
    "    # Evaluation based on a 10-fold cross-validation\n",
    "    scoring = ['balanced_accuracy', 'recall_macro']\n",
    "    scores_train = cross_val_score(model, X_train, y_train, cv=10, scoring = 'balanced_accuracy')\n",
    "    scores_test = cross_val_score(model, X_test, y_test, cv=10, scoring = 'balanced_accuracy')  \n",
    "    cv_acc_train[name] = round(scores_train.mean(), 4)*100  # balanced accuracy\n",
    "    cv_acc_test[name] = round(scores_test.mean(), 4)*100  # balanced accuracy\n",
    "    cv_TPR[name] = (confusion_matrix(y_test, y_pred)[1][1]/confusion_matrix(y_test, y_pred)[1].sum())*100  # recall (Max)\n",
    "    cv_FPR[name] = (confusion_matrix(y_test, y_pred)[0][1]/confusion_matrix(y_test, y_pred)[0].sum())*100  # fallout (Min)\n",
    "    \n",
    "    # accuracy scores\n",
    "    print('Average Balanced Accuracy (CV=10), Test Set:', scores_test.mean())  \n",
    "    print('Average Balanced Accuracy (CV=10), Training Set: ', scores_train.mean())\n",
    "\n",
    "    # print classification report\n",
    "    print(classification_report(y_test, y_pred, zero_division=0))\n",
    "\n",
    "    # Plot Confusion Matrix\n",
    "    plot_confusion_matrix(model, X_test, y_test)\n",
    "    plt.show()"
   ]
  },
  {
   "cell_type": "markdown",
   "metadata": {},
   "source": [
    "### 1-Decision tree"
   ]
  },
  {
   "cell_type": "code",
   "execution_count": 14,
   "metadata": {},
   "outputs": [],
   "source": [
    "from sklearn.tree import DecisionTreeClassifier, plot_tree\n",
    "from sklearn.model_selection import cross_val_score\n",
    "from sklearn.metrics import plot_confusion_matrix, classification_report, confusion_matrix"
   ]
  },
  {
   "cell_type": "code",
   "execution_count": 15,
   "metadata": {},
   "outputs": [
    {
     "name": "stdout",
     "output_type": "stream",
     "text": [
      "Average Balanced Accuracy (CV=10), Test Set: 0.5223535508165191\n",
      "Average Balanced Accuracy (CV=10), Training Set:  0.5227271817899852\n",
      "              precision    recall  f1-score   support\n",
      "\n",
      "           0       0.62      0.61      0.62      9766\n",
      "           1       0.42      0.42      0.42      6333\n",
      "\n",
      "    accuracy                           0.54     16099\n",
      "   macro avg       0.52      0.52      0.52     16099\n",
      "weighted avg       0.54      0.54      0.54     16099\n",
      "\n"
     ]
    },
    {
     "data": {
      "image/png": "[encoded data removed]",
      "text/plain": [
       "<Figure size 432x288 with 2 Axes>"
      ]
     },
     "metadata": {
      "needs_background": "light"
     },
     "output_type": "display_data"
    }
   ],
   "source": [
    "dtc = DecisionTreeClassifier()\n",
    "plot_result(dtc, \"dtc\")"
   ]
  },
  {
   "cell_type": "code",
   "execution_count": 16,
   "metadata": {},
   "outputs": [],
   "source": [
    "# plot tree\n",
    "# plt.figure(figsize=(16,6))\n",
    "# plot_tree(dtc, filled = True, class_names=[\"-1\", \"1\"], feature_names=X.columns, fontsize=11);"
   ]
  },
  {
   "cell_type": "code",
   "execution_count": 17,
   "metadata": {},
   "outputs": [
    {
     "data": {
      "text/plain": [
       "({'dtc': 52.27},\n",
       " {'dtc': 52.239999999999995},\n",
       " {'dtc': 42.49171009000474},\n",
       " {'dtc': 38.74667212779029})"
      ]
     },
     "execution_count": 17,
     "metadata": {},
     "output_type": "execute_result"
    }
   ],
   "source": [
    "cv_acc_train, cv_acc_test, cv_TPR, cv_FPR"
   ]
  },
  {
   "cell_type": "markdown",
   "metadata": {},
   "source": [
    "### 2-Logistic Regression"
   ]
  },
  {
   "cell_type": "code",
   "execution_count": null,
   "metadata": {},
   "outputs": [],
   "source": [
    "from sklearn.linear_model import LogisticRegression"
   ]
  },
  {
   "cell_type": "code",
   "execution_count": null,
   "metadata": {},
   "outputs": [],
   "source": [
    "lr = LogisticRegression()\n",
    "plot_result(lr, \"lr\")"
   ]
  },
  {
   "cell_type": "markdown",
   "metadata": {},
   "source": [
    "### 3-SVC"
   ]
  },
  {
   "cell_type": "code",
   "execution_count": null,
   "metadata": {},
   "outputs": [],
   "source": [
    "# svc = SVC(probability=True)  # default values\n",
    "# plot_result(svc, \"svc\")"
   ]
  },
  {
   "cell_type": "markdown",
   "metadata": {},
   "source": [
    "### 4-NearestCentroid"
   ]
  },
  {
   "cell_type": "code",
   "execution_count": null,
   "metadata": {},
   "outputs": [],
   "source": [
    "from sklearn.neighbors import NearestCentroid\n",
    "from sklearn.metrics import plot_confusion_matrix, classification_report, confusion_matrix"
   ]
  },
  {
   "cell_type": "code",
   "execution_count": null,
   "metadata": {},
   "outputs": [],
   "source": [
    "nc = NearestCentroid()\n",
    "plot_result(nc, \"nc\")"
   ]
  },
  {
   "cell_type": "markdown",
   "metadata": {},
   "source": [
    "### 5-Random Forest"
   ]
  },
  {
   "cell_type": "code",
   "execution_count": null,
   "metadata": {},
   "outputs": [],
   "source": [
    "from sklearn.ensemble import RandomForestClassifier"
   ]
  },
  {
   "cell_type": "code",
   "execution_count": null,
   "metadata": {},
   "outputs": [],
   "source": [
    "rfc = RandomForestClassifier()\n",
    "plot_result(rfc, \"rfc\")"
   ]
  },
  {
   "cell_type": "code",
   "execution_count": null,
   "metadata": {},
   "outputs": [],
   "source": [
    "def plot_feature_importances(model):\n",
    "    feature_imp = pd.Series(model.feature_importances_,index=X.columns).sort_values(ascending=False)[:10]\n",
    "\n",
    "    sns.barplot(x=feature_imp, y=feature_imp.index)\n",
    "    plt.title(\"Feature Importance\")\n",
    "    plt.show()\n",
    "\n",
    "    print(f\"Top 10 Feature Importance for {str(model).split('(')[0]}\\n\\n\",feature_imp[:10],sep='')"
   ]
  },
  {
   "cell_type": "code",
   "execution_count": null,
   "metadata": {},
   "outputs": [],
   "source": [
    "plot_feature_importances(rfc)"
   ]
  },
  {
   "cell_type": "markdown",
   "metadata": {},
   "source": [
    "### 6-Gradient Boosting"
   ]
  },
  {
   "cell_type": "code",
   "execution_count": null,
   "metadata": {},
   "outputs": [],
   "source": [
    "from sklearn.ensemble import GradientBoostingClassifier"
   ]
  },
  {
   "cell_type": "code",
   "execution_count": null,
   "metadata": {},
   "outputs": [],
   "source": [
    "gbc = GradientBoostingClassifier(random_state=42)\n",
    "plot_result(gbc, \"gbc\")"
   ]
  },
  {
   "cell_type": "code",
   "execution_count": null,
   "metadata": {},
   "outputs": [],
   "source": [
    "plot_feature_importances(gbc)"
   ]
  },
  {
   "cell_type": "markdown",
   "metadata": {},
   "source": [
    "### 7-Naive Bayes"
   ]
  },
  {
   "cell_type": "code",
   "execution_count": null,
   "metadata": {},
   "outputs": [],
   "source": [
    "from sklearn.naive_bayes import GaussianNB"
   ]
  },
  {
   "cell_type": "code",
   "execution_count": null,
   "metadata": {},
   "outputs": [],
   "source": [
    "nb = GaussianNB()\n",
    "plot_result(nb, \"nb\")"
   ]
  },
  {
   "cell_type": "markdown",
   "metadata": {},
   "source": [
    "### 8-kNN"
   ]
  },
  {
   "cell_type": "code",
   "execution_count": null,
   "metadata": {},
   "outputs": [],
   "source": [
    "from sklearn.neighbors import KNeighborsClassifier"
   ]
  },
  {
   "cell_type": "code",
   "execution_count": null,
   "metadata": {},
   "outputs": [],
   "source": [
    "knn = KNeighborsClassifier()\n",
    "plot_result(knn, \"knn\")"
   ]
  },
  {
   "cell_type": "markdown",
   "metadata": {},
   "source": [
    "### 9-XGBOOST"
   ]
  },
  {
   "cell_type": "code",
   "execution_count": null,
   "metadata": {},
   "outputs": [],
   "source": [
    "from xgboost import XGBClassifier\n",
    "from sklearn.model_selection import GridSearchCV, RandomizedSearchCV, cross_val_score"
   ]
  },
  {
   "cell_type": "code",
   "execution_count": null,
   "metadata": {},
   "outputs": [],
   "source": [
    "xgb = XGBClassifier(eval_metric = \"logloss\")\n",
    "plot_result(xgb, \"xgb\")"
   ]
  },
  {
   "cell_type": "code",
   "execution_count": null,
   "metadata": {},
   "outputs": [],
   "source": [
    "plot_feature_importances(xgb)"
   ]
  },
  {
   "cell_type": "code",
   "execution_count": null,
   "metadata": {},
   "outputs": [],
   "source": [
    "from xgboost import plot_importance\n",
    "plot_importance(xgb,max_num_features=10)\n",
    "plt.xlabel('The F-Score for each features')\n",
    "plt.ylabel('Importances')\n",
    "plt.show()"
   ]
  },
  {
   "cell_type": "markdown",
   "metadata": {},
   "source": [
    "### Evaluation (iteration 1)"
   ]
  },
  {
   "cell_type": "code",
   "execution_count": 38,
   "metadata": {},
   "outputs": [],
   "source": [
    "\n",
    "def AUC(cv_AUC, X_test=X_test):\n",
    "    dtc_auc= roc_auc_score(y_test,dtc.predict(X_test)) #Decision Tree Classifier\n",
    "    lr_auc= roc_auc_score(y_test, lr.decision_function(X_test))#logistic regression\n",
    "#     svc_auc= roc_auc_score(y_test, svc.decision_function(X_test))#Support Vector Classifier\n",
    "    nc_auc= roc_auc_score(y_test, nc.predict(X_test))#Nearest Centroid Classifier\n",
    "    rfc_auc= roc_auc_score(y_test, rfc.predict_proba(X_test)[:,1])#Randomforest Classifier\n",
    "    gbc_auc= roc_auc_score(y_test, gbc.predict_proba(X_test)[:,1])#GradientBoosting Classifier\n",
    "    nb_auc= roc_auc_score(y_test, nb.predict_proba(X_test)[:,1])#Naive Bayes Classifier\n",
    "    knn_auc= roc_auc_score(y_test, knn.predict(X_test))#KNeighbors Classifier\n",
    "    xgb_auc= roc_auc_score(y_test, xgb.predict_proba(X_test)[:,1])#XGBoost Classifier\n",
    "\n",
    "    cv_AUC={'dtc': dtc_auc,\n",
    "           'lr': lr_auc,\n",
    "#            'svc':svc_auc,\n",
    "           'nc':nc_auc,\n",
    "           'rfc':rfc_auc,\n",
    "           'gbc':gbc_auc,\n",
    "           'nb':nb_auc,\n",
    "           'knn':knn_auc,\n",
    "           'xgb':xgb_auc}\n",
    "    return cv_AUC"
   ]
  },
  {
   "cell_type": "code",
   "execution_count": 39,
   "metadata": {},
   "outputs": [
    {
     "data": {
      "text/html": [
       "<div>\n",
       "<style scoped>\n",
       "    .dataframe tbody tr th:only-of-type {\n",
       "        vertical-align: middle;\n",
       "    }\n",
       "\n",
       "    .dataframe tbody tr th {\n",
       "        vertical-align: top;\n",
       "    }\n",
       "\n",
       "    .dataframe thead th {\n",
       "        text-align: right;\n",
       "    }\n",
       "</style>\n",
       "<table border=\"1\" class=\"dataframe\">\n",
       "  <thead>\n",
       "    <tr style=\"text-align: right;\">\n",
       "      <th></th>\n",
       "      <th>model</th>\n",
       "      <th>bal_acc_train</th>\n",
       "      <th>bal_acc_test</th>\n",
       "      <th>recall</th>\n",
       "      <th>fallout</th>\n",
       "      <th>AUC</th>\n",
       "    </tr>\n",
       "  </thead>\n",
       "  <tbody>\n",
       "    <tr>\n",
       "      <th>0</th>\n",
       "      <td>dtc</td>\n",
       "      <td>52.27</td>\n",
       "      <td>52.24</td>\n",
       "      <td>42.49</td>\n",
       "      <td>38.75</td>\n",
       "      <td>0.52</td>\n",
       "    </tr>\n",
       "    <tr>\n",
       "      <th>1</th>\n",
       "      <td>lr</td>\n",
       "      <td>54.45</td>\n",
       "      <td>54.19</td>\n",
       "      <td>18.35</td>\n",
       "      <td>9.52</td>\n",
       "      <td>0.61</td>\n",
       "    </tr>\n",
       "    <tr>\n",
       "      <th>2</th>\n",
       "      <td>nc</td>\n",
       "      <td>57.32</td>\n",
       "      <td>56.99</td>\n",
       "      <td>55.01</td>\n",
       "      <td>41.13</td>\n",
       "      <td>0.57</td>\n",
       "    </tr>\n",
       "    <tr>\n",
       "      <th>3</th>\n",
       "      <td>rfc</td>\n",
       "      <td>55.15</td>\n",
       "      <td>54.40</td>\n",
       "      <td>26.65</td>\n",
       "      <td>16.70</td>\n",
       "      <td>0.59</td>\n",
       "    </tr>\n",
       "    <tr>\n",
       "      <th>4</th>\n",
       "      <td>gbc</td>\n",
       "      <td>54.63</td>\n",
       "      <td>54.58</td>\n",
       "      <td>17.59</td>\n",
       "      <td>8.17</td>\n",
       "      <td>0.62</td>\n",
       "    </tr>\n",
       "    <tr>\n",
       "      <th>5</th>\n",
       "      <td>nb</td>\n",
       "      <td>56.29</td>\n",
       "      <td>51.44</td>\n",
       "      <td>36.29</td>\n",
       "      <td>23.92</td>\n",
       "      <td>0.59</td>\n",
       "    </tr>\n",
       "    <tr>\n",
       "      <th>6</th>\n",
       "      <td>knn</td>\n",
       "      <td>53.67</td>\n",
       "      <td>52.08</td>\n",
       "      <td>33.87</td>\n",
       "      <td>27.89</td>\n",
       "      <td>0.53</td>\n",
       "    </tr>\n",
       "    <tr>\n",
       "      <th>7</th>\n",
       "      <td>xgb</td>\n",
       "      <td>55.92</td>\n",
       "      <td>54.88</td>\n",
       "      <td>27.51</td>\n",
       "      <td>16.52</td>\n",
       "      <td>0.61</td>\n",
       "    </tr>\n",
       "  </tbody>\n",
       "</table>\n",
       "</div>"
      ],
      "text/plain": [
       "  model  bal_acc_train  bal_acc_test  recall  fallout   AUC\n",
       "0   dtc          52.27         52.24   42.49    38.75  0.52\n",
       "1    lr          54.45         54.19   18.35     9.52  0.61\n",
       "2    nc          57.32         56.99   55.01    41.13  0.57\n",
       "3   rfc          55.15         54.40   26.65    16.70  0.59\n",
       "4   gbc          54.63         54.58   17.59     8.17  0.62\n",
       "5    nb          56.29         51.44   36.29    23.92  0.59\n",
       "6   knn          53.67         52.08   33.87    27.89  0.53\n",
       "7   xgb          55.92         54.88   27.51    16.52  0.61"
      ]
     },
     "execution_count": 39,
     "metadata": {},
     "output_type": "execute_result"
    }
   ],
   "source": [
    "cv_AUC = AUC(cv_AUC)\n",
    "df_eval = pd.DataFrame(data={'model': list(cv_acc_test.keys()), \n",
    "                             'bal_acc_train':list(cv_acc_train.values()),\n",
    "                             'bal_acc_test': list(cv_acc_test.values()), \n",
    "                             'recall': list(cv_TPR.values()), \n",
    "                             'fallout':list(cv_FPR.values()),\n",
    "                              'AUC': list(cv_AUC.values())}).round(2)\n",
    "df_eval"
   ]
  },
  {
   "cell_type": "code",
   "execution_count": 40,
   "metadata": {},
   "outputs": [
    {
     "data": {
      "image/png": "[encoded data removed]",
      "text/plain": [
       "<Figure size 720x720 with 2 Axes>"
      ]
     },
     "metadata": {
      "needs_background": "light"
     },
     "output_type": "display_data"
    }
   ],
   "source": [
    "def plot_ROC(X_test=X_test, y_test=y_test):\n",
    "    fpr_dtc, tpr_dtc, thresholds = roc_curve(y_test,dtc.predict(X_test)) #Decision Tree Classifier\n",
    "    fpr_lr, tpr_lr, thresholds = roc_curve(y_test, lr.decision_function(X_test))#logistic regression\n",
    "#     fpr_svc, tpr_svc, thresholds = roc_curve(y_test, svc.decision_function(X_test))#Support Vector Classifier\n",
    "    fpr_nc, tpr_nc, thresholds = roc_curve(y_test, nc.predict(X_test))#Nearest Centroid Classifier\n",
    "    fpr_rfc, tpr_rfc, thresholds = roc_curve(y_test, rfc.predict_proba(X_test)[:,1])#Randomforest Classifier\n",
    "    fpr_gbc, tpr_gbc, thresholds = roc_curve(y_test, gbc.predict_proba(X_test)[:,1])#GradientBoosting Classifier\n",
    "    fpr_nb, tpr_nb, thresholds = roc_curve(y_test, nb.predict_proba(X_test)[:,1])#Naive Bayes Classifier\n",
    "    fpr_knn, tpr_knn, thresholds = roc_curve(y_test, knn.predict(X_test))#KNeighbors Classifier\n",
    "    fpr_xgb, tpr_xgb, thresholds = roc_curve(y_test, xgb.predict_proba(X_test)[:,1])#XGBoost Classifier\n",
    "\n",
    "    #compare the ROC curve between different models\n",
    "    plt.figure(figsize=(10,10))\n",
    "    plt.plot(fpr_dtc, tpr_dtc, label='Decision Tree Classifier')\n",
    "    plt.plot(fpr_lr, tpr_lr, label='Logistic Regression')\n",
    "#     plt.plot(fpr_svc, tpr_svc, label='Support Vector Classifier')\n",
    "    plt.plot(fpr_nc, tpr_nc, label='Nearest Centroid Classifier')\n",
    "    plt.plot(fpr_rfc, tpr_rfc, label='Randomforest Classifier')\n",
    "    plt.plot(fpr_gbc, tpr_gbc, label='GradientBoosting Classifier')\n",
    "    plt.plot(fpr_nb, tpr_nb, label='Naive Bayes Classifier')\n",
    "    plt.plot(fpr_knn, tpr_knn, label='KNeighbors Classifier')\n",
    "    plt.plot(fpr_xgb, tpr_xgb, label='XGBoost Classifier')\n",
    "\n",
    "    plt.plot([0, 1], [0, 1], linestyle='--', lw=2, color='r',\n",
    "             label='random', alpha=.8)\n",
    "    plt.xlim([0,1])\n",
    "    plt.ylim([0,1])\n",
    "    plt.xticks(np.arange(0,1.1,0.1))\n",
    "    plt.yticks(np.arange(0,1.1,0.1))\n",
    "    plt.grid()\n",
    "    plt.legend()\n",
    "    plt.axes().set_aspect('equal')\n",
    "    plt.xlabel('False Positive Rate')\n",
    "    plt.ylabel('True Positive Rate')\n",
    "\n",
    "plot_ROC()"
   ]
  },
  {
   "cell_type": "code",
   "execution_count": 41,
   "metadata": {},
   "outputs": [
    {
     "data": {
      "image/png": "[encoded data removed]",
      "text/plain": [
       "<Figure size 1440x288 with 4 Axes>"
      ]
     },
     "metadata": {
      "needs_background": "light"
     },
     "output_type": "display_data"
    }
   ],
   "source": [
    "fig, ax = plt.subplots(1,4, figsize=(20, 4))\n",
    "sns.barplot(x=\"bal_acc_train\", y=\"model\", data=df_eval.sort_values(by=\"recall\"), ax=ax[0])\n",
    "ax[0].set_title(\"Unbalanced Train Acc\")\n",
    "sns.barplot(x=\"bal_acc_test\", y=\"model\", data=df_eval.sort_values(by=\"recall\"), ax=ax[1])\n",
    "ax[1].set_title(\"Unbalanced Test Acc\")\n",
    "sns.barplot(x=\"recall\", y=\"model\", data=df_eval.sort_values(by=\"recall\"), ax=ax[2])\n",
    "ax[2].set_title(\"Unbalanced Test TPR\")\n",
    "sns.barplot(x=\"fallout\", y=\"model\", data=df_eval.sort_values(by=\"recall\"), ax=ax[3])\n",
    "ax[3].set_title(\"Unbalanced Test FPR\")\n",
    "plt.show()"
   ]
  },
  {
   "cell_type": "markdown",
   "metadata": {},
   "source": [
    "> NaiveBayes gave high BalanceAccuracy and TPR_Score (Recall), but it gave the poor FPR_Score (Fallout) in this unbalanced data set."
   ]
  },
  {
   "cell_type": "markdown",
   "metadata": {},
   "source": [
    "### Iteration 2: (Oversampling with SMOTE)"
   ]
  },
  {
   "attachments": {
    "resampling-techniques-in-machine-learning-15-638.jpg": {
     "image/jpeg": "[encoded data removed]"
    }
   },
   "cell_type": "markdown",
   "metadata": {},
   "source": [
    "![resampling-techniques-in-machine-learning-15-638.jpg](attachment:resampling-techniques-in-machine-learning-15-638.jpg)"
   ]
  },
  {
   "cell_type": "markdown",
   "metadata": {},
   "source": [
    "### Balancing data"
   ]
  },
  {
   "cell_type": "code",
   "execution_count": 42,
   "metadata": {},
   "outputs": [
    {
     "data": {
      "text/plain": [
       "0    0.606622\n",
       "1    0.393378\n",
       "Name: readmitted_YES, dtype: float64"
      ]
     },
     "execution_count": 42,
     "metadata": {},
     "output_type": "execute_result"
    }
   ],
   "source": [
    "y_test.value_counts(normalize=True)"
   ]
  },
  {
   "cell_type": "code",
   "execution_count": 43,
   "metadata": {},
   "outputs": [
    {
     "data": {
      "text/plain": [
       "0    0.606613\n",
       "1    0.393387\n",
       "Name: readmitted_YES, dtype: float64"
      ]
     },
     "execution_count": 43,
     "metadata": {},
     "output_type": "execute_result"
    }
   ],
   "source": [
    "y_train.value_counts(normalize=True)"
   ]
  },
  {
   "cell_type": "code",
   "execution_count": 44,
   "metadata": {},
   "outputs": [],
   "source": [
    "# pip install imblearn\n",
    "from imblearn import under_sampling, over_sampling\n",
    "from imblearn.over_sampling import SMOTE"
   ]
  },
  {
   "cell_type": "code",
   "execution_count": 45,
   "metadata": {},
   "outputs": [],
   "source": [
    "oversmote = SMOTE()\n",
    "X_train_os, y_train_os= oversmote.fit_resample(X_train, y_train)"
   ]
  },
  {
   "cell_type": "code",
   "execution_count": 46,
   "metadata": {},
   "outputs": [
    {
     "data": {
      "image/png": "[encoded data removed]",
      "text/plain": [
       "<Figure size 432x288 with 1 Axes>"
      ]
     },
     "metadata": {
      "needs_background": "light"
     },
     "output_type": "display_data"
    }
   ],
   "source": [
    "ax = y_train_os.value_counts().plot.bar(color=[\"blue\", \"red\"])\n",
    "def labels(ax):\n",
    "    for p in ax.patches:\n",
    "        ax.annotate(f\"{p.get_height()}\", (p.get_x() + 0.15, p.get_height()+200),size=8)\n",
    "labels(ax)\n",
    "plt.show()"
   ]
  },
  {
   "cell_type": "code",
   "execution_count": 47,
   "metadata": {},
   "outputs": [
    {
     "data": {
      "text/plain": [
       "(58594, 54)"
      ]
     },
     "execution_count": 47,
     "metadata": {},
     "output_type": "execute_result"
    }
   ],
   "source": [
    "X_train_os.shape"
   ]
  },
  {
   "cell_type": "markdown",
   "metadata": {},
   "source": [
    "### Use algorithms"
   ]
  },
  {
   "cell_type": "code",
   "execution_count": 48,
   "metadata": {},
   "outputs": [],
   "source": [
    "cv_acc_balance_train = {}\n",
    "cv_acc_balance_test = {}\n",
    "cv_TPR_balance = {}\n",
    "cv_FPR_balance = {}\n",
    "cv_AUC_balance = {}"
   ]
  },
  {
   "cell_type": "code",
   "execution_count": 49,
   "metadata": {},
   "outputs": [],
   "source": [
    "def plot_result_smote(model, name:str):\n",
    "    model.fit(X_train_os, y_train_os)\n",
    "    y_pred = model.predict(X_test)\n",
    "\n",
    "    # Evaluation based on a 10-fold cross-validation\n",
    "    scoring = ['balanced_accuracy', 'recall_macro']\n",
    "    scores_train = cross_val_score(model, X_train, y_train, cv=10, scoring = 'balanced_accuracy')\n",
    "    scores_test = cross_val_score(model, X_test, y_test, cv=10, scoring = 'balanced_accuracy')\n",
    "    cv_acc_balance_train[name] = round(scores_train.mean(), 4)*100  # balanced accuracy\n",
    "    cv_acc_balance_test[name] = round(scores_test.mean(), 4)*100  # balanced accuracy\n",
    "    cv_TPR_balance[name] = (confusion_matrix(y_test, y_pred)[1][1]/confusion_matrix(y_test, y_pred)[1].sum())*100  # recall (max)\n",
    "    cv_FPR_balance[name] = (confusion_matrix(y_test, y_pred)[0][1]/confusion_matrix(y_test, y_pred)[0].sum())*100  # fallout (min)\n",
    "    \n",
    "    # accuracy scores\n",
    "    print('Average Balanced Accuracy (CV=10), Test Set:', scores_test.mean())  \n",
    "    print('Average Balanced Accuracy (CV=10), Training Set: ', scores_train.mean())\n",
    "\n",
    "    # print classification report\n",
    "    print(classification_report(y_test, y_pred, zero_division=0))\n",
    "\n",
    "    # Plot Confusion Matrix\n",
    "    plot_confusion_matrix(model, X_test, y_test)\n",
    "    plt.show()"
   ]
  },
  {
   "cell_type": "code",
   "execution_count": 50,
   "metadata": {},
   "outputs": [
    {
     "name": "stdout",
     "output_type": "stream",
     "text": [
      "Average Balanced Accuracy (CV=10), Test Set: 0.518304595406007\n",
      "Average Balanced Accuracy (CV=10), Training Set:  0.5215033405861726\n",
      "              precision    recall  f1-score   support\n",
      "\n",
      "           0       0.63      0.62      0.62      9766\n",
      "           1       0.42      0.43      0.43      6333\n",
      "\n",
      "    accuracy                           0.54     16099\n",
      "   macro avg       0.52      0.52      0.52     16099\n",
      "weighted avg       0.55      0.54      0.54     16099\n",
      "\n"
     ]
    },
    {
     "data": {
      "image/png": "[encoded data removed]",
      "text/plain": [
       "<Figure size 432x288 with 2 Axes>"
      ]
     },
     "metadata": {
      "needs_background": "light"
     },
     "output_type": "display_data"
    }
   ],
   "source": [
    "# Decision tree\n",
    "dtc = DecisionTreeClassifier()\n",
    "\n",
    "plot_result_smote(dtc, \"dtc\")"
   ]
  },
  {
   "cell_type": "code",
   "execution_count": 51,
   "metadata": {},
   "outputs": [
    {
     "name": "stdout",
     "output_type": "stream",
     "text": [
      "Average Balanced Accuracy (CV=10), Test Set: 0.5419498087033714\n",
      "Average Balanced Accuracy (CV=10), Training Set:  0.544459039736215\n",
      "              precision    recall  f1-score   support\n",
      "\n",
      "           0       0.67      0.59      0.63      9766\n",
      "           1       0.47      0.56      0.51      6333\n",
      "\n",
      "    accuracy                           0.58     16099\n",
      "   macro avg       0.57      0.57      0.57     16099\n",
      "weighted avg       0.59      0.58      0.58     16099\n",
      "\n"
     ]
    },
    {
     "data": {
      "image/png": "[encoded data removed]",
      "text/plain": [
       "<Figure size 432x288 with 2 Axes>"
      ]
     },
     "metadata": {
      "needs_background": "light"
     },
     "output_type": "display_data"
    }
   ],
   "source": [
    "# Logistic Regression\n",
    "lr = LogisticRegression()\n",
    "plot_result_smote(lr, \"lr\")"
   ]
  },
  {
   "cell_type": "code",
   "execution_count": 52,
   "metadata": {},
   "outputs": [
    {
     "name": "stdout",
     "output_type": "stream",
     "text": [
      "Average Balanced Accuracy (CV=10), Test Set: 0.5698805954350324\n",
      "Average Balanced Accuracy (CV=10), Training Set:  0.5731634513693644\n",
      "              precision    recall  f1-score   support\n",
      "\n",
      "           0       0.67      0.58      0.62      9766\n",
      "           1       0.46      0.56      0.51      6333\n",
      "\n",
      "    accuracy                           0.57     16099\n",
      "   macro avg       0.57      0.57      0.57     16099\n",
      "weighted avg       0.59      0.57      0.58     16099\n",
      "\n"
     ]
    },
    {
     "data": {
      "image/png": "[encoded data removed]",
      "text/plain": [
       "<Figure size 432x288 with 2 Axes>"
      ]
     },
     "metadata": {
      "needs_background": "light"
     },
     "output_type": "display_data"
    }
   ],
   "source": [
    "# NearestCentroid\n",
    "nc = NearestCentroid()\n",
    "plot_result_smote(nc, \"nc\")"
   ]
  },
  {
   "cell_type": "code",
   "execution_count": 53,
   "metadata": {},
   "outputs": [],
   "source": [
    "# # SVC\n",
    "# svc = SVC()\n",
    "# plot_result_smote(svc, \"svc\")"
   ]
  },
  {
   "cell_type": "code",
   "execution_count": 54,
   "metadata": {},
   "outputs": [
    {
     "name": "stdout",
     "output_type": "stream",
     "text": [
      "Average Balanced Accuracy (CV=10), Test Set: 0.5444895342228483\n",
      "Average Balanced Accuracy (CV=10), Training Set:  0.5519687112559144\n",
      "              precision    recall  f1-score   support\n",
      "\n",
      "           0       0.64      0.79      0.71      9766\n",
      "           1       0.50      0.32      0.39      6333\n",
      "\n",
      "    accuracy                           0.61     16099\n",
      "   macro avg       0.57      0.56      0.55     16099\n",
      "weighted avg       0.59      0.61      0.58     16099\n",
      "\n"
     ]
    },
    {
     "data": {
      "image/png": "[encoded data removed]",
      "text/plain": [
       "<Figure size 432x288 with 2 Axes>"
      ]
     },
     "metadata": {
      "needs_background": "light"
     },
     "output_type": "display_data"
    }
   ],
   "source": [
    "# Random Forest\n",
    "rfc = RandomForestClassifier()\n",
    "plot_result_smote(rfc, \"rfc\")"
   ]
  },
  {
   "cell_type": "code",
   "execution_count": 55,
   "metadata": {},
   "outputs": [
    {
     "name": "stdout",
     "output_type": "stream",
     "text": [
      "Average Balanced Accuracy (CV=10), Test Set: 0.5457854180520995\n",
      "Average Balanced Accuracy (CV=10), Training Set:  0.5462612337448516\n",
      "              precision    recall  f1-score   support\n",
      "\n",
      "           0       0.64      0.82      0.72      9766\n",
      "           1       0.52      0.30      0.38      6333\n",
      "\n",
      "    accuracy                           0.62     16099\n",
      "   macro avg       0.58      0.56      0.55     16099\n",
      "weighted avg       0.59      0.62      0.59     16099\n",
      "\n"
     ]
    },
    {
     "data": {
      "image/png": "[encoded data removed]",
      "text/plain": [
       "<Figure size 432x288 with 2 Axes>"
      ]
     },
     "metadata": {
      "needs_background": "light"
     },
     "output_type": "display_data"
    }
   ],
   "source": [
    "# Gradient Boost\n",
    "gbc = GradientBoostingClassifier(random_state=42)\n",
    "plot_result_smote(gbc, \"gbc\")"
   ]
  },
  {
   "cell_type": "code",
   "execution_count": 56,
   "metadata": {},
   "outputs": [
    {
     "name": "stdout",
     "output_type": "stream",
     "text": [
      "Average Balanced Accuracy (CV=10), Test Set: 0.5144278553940823\n",
      "Average Balanced Accuracy (CV=10), Training Set:  0.5629375730757987\n",
      "              precision    recall  f1-score   support\n",
      "\n",
      "           0       0.66      0.71      0.68      9766\n",
      "           1       0.49      0.43      0.45      6333\n",
      "\n",
      "    accuracy                           0.60     16099\n",
      "   macro avg       0.57      0.57      0.57     16099\n",
      "weighted avg       0.59      0.60      0.59     16099\n",
      "\n"
     ]
    },
    {
     "data": {
      "image/png": "[encoded data removed]",
      "text/plain": [
       "<Figure size 432x288 with 2 Axes>"
      ]
     },
     "metadata": {
      "needs_background": "light"
     },
     "output_type": "display_data"
    }
   ],
   "source": [
    "# Naive Bayes\n",
    "nb = GaussianNB()\n",
    "plot_result_smote(nb, \"nb\")"
   ]
  },
  {
   "cell_type": "code",
   "execution_count": 57,
   "metadata": {},
   "outputs": [
    {
     "name": "stdout",
     "output_type": "stream",
     "text": [
      "Average Balanced Accuracy (CV=10), Test Set: 0.5208351489946321\n",
      "Average Balanced Accuracy (CV=10), Training Set:  0.5367488083809042\n",
      "              precision    recall  f1-score   support\n",
      "\n",
      "           0       0.64      0.54      0.58      9766\n",
      "           1       0.42      0.52      0.47      6333\n",
      "\n",
      "    accuracy                           0.53     16099\n",
      "   macro avg       0.53      0.53      0.53     16099\n",
      "weighted avg       0.55      0.53      0.54     16099\n",
      "\n"
     ]
    },
    {
     "data": {
      "image/png": "[encoded data removed]",
      "text/plain": [
       "<Figure size 432x288 with 2 Axes>"
      ]
     },
     "metadata": {
      "needs_background": "light"
     },
     "output_type": "display_data"
    }
   ],
   "source": [
    "# kNN\n",
    "knn = KNeighborsClassifier()\n",
    "plot_result_smote(knn, \"knn\")"
   ]
  },
  {
   "cell_type": "code",
   "execution_count": 58,
   "metadata": {},
   "outputs": [
    {
     "name": "stdout",
     "output_type": "stream",
     "text": [
      "Average Balanced Accuracy (CV=10), Test Set: 0.548751906115082\n",
      "Average Balanced Accuracy (CV=10), Training Set:  0.5591727365490434\n",
      "              precision    recall  f1-score   support\n",
      "\n",
      "           0       0.64      0.84      0.73      9766\n",
      "           1       0.53      0.28      0.37      6333\n",
      "\n",
      "    accuracy                           0.62     16099\n",
      "   macro avg       0.58      0.56      0.55     16099\n",
      "weighted avg       0.60      0.62      0.58     16099\n",
      "\n"
     ]
    },
    {
     "data": {
      "image/png": "[encoded data removed]",
      "text/plain": [
       "<Figure size 432x288 with 2 Axes>"
      ]
     },
     "metadata": {
      "needs_background": "light"
     },
     "output_type": "display_data"
    }
   ],
   "source": [
    "# XGBOOST\n",
    "xgb = XGBClassifier(eval_metric = \"logloss\", random_state=42)\n",
    "plot_result_smote(xgb, \"xgb\")"
   ]
  },
  {
   "cell_type": "code",
   "execution_count": 59,
   "metadata": {},
   "outputs": [],
   "source": [
    "cv_AUC_balance = AUC(cv_AUC_balance)"
   ]
  },
  {
   "cell_type": "code",
   "execution_count": 60,
   "metadata": {},
   "outputs": [
    {
     "data": {
      "text/html": [
       "<div>\n",
       "<style scoped>\n",
       "    .dataframe tbody tr th:only-of-type {\n",
       "        vertical-align: middle;\n",
       "    }\n",
       "\n",
       "    .dataframe tbody tr th {\n",
       "        vertical-align: top;\n",
       "    }\n",
       "\n",
       "    .dataframe thead th {\n",
       "        text-align: right;\n",
       "    }\n",
       "</style>\n",
       "<table border=\"1\" class=\"dataframe\">\n",
       "  <thead>\n",
       "    <tr style=\"text-align: right;\">\n",
       "      <th></th>\n",
       "      <th>model</th>\n",
       "      <th>bal_acc_train</th>\n",
       "      <th>bal_acc_test</th>\n",
       "      <th>recall</th>\n",
       "      <th>fallout</th>\n",
       "      <th>AUC</th>\n",
       "    </tr>\n",
       "  </thead>\n",
       "  <tbody>\n",
       "    <tr>\n",
       "      <th>0</th>\n",
       "      <td>dtc</td>\n",
       "      <td>52.15</td>\n",
       "      <td>51.83</td>\n",
       "      <td>43.19</td>\n",
       "      <td>38.40</td>\n",
       "      <td>0.52</td>\n",
       "    </tr>\n",
       "    <tr>\n",
       "      <th>1</th>\n",
       "      <td>lr</td>\n",
       "      <td>54.45</td>\n",
       "      <td>54.19</td>\n",
       "      <td>55.85</td>\n",
       "      <td>41.22</td>\n",
       "      <td>0.61</td>\n",
       "    </tr>\n",
       "    <tr>\n",
       "      <th>2</th>\n",
       "      <td>nc</td>\n",
       "      <td>57.32</td>\n",
       "      <td>56.99</td>\n",
       "      <td>55.74</td>\n",
       "      <td>41.68</td>\n",
       "      <td>0.57</td>\n",
       "    </tr>\n",
       "    <tr>\n",
       "      <th>3</th>\n",
       "      <td>rfc</td>\n",
       "      <td>55.20</td>\n",
       "      <td>54.45</td>\n",
       "      <td>32.48</td>\n",
       "      <td>21.08</td>\n",
       "      <td>0.59</td>\n",
       "    </tr>\n",
       "    <tr>\n",
       "      <th>4</th>\n",
       "      <td>gbc</td>\n",
       "      <td>54.63</td>\n",
       "      <td>54.58</td>\n",
       "      <td>29.89</td>\n",
       "      <td>17.90</td>\n",
       "      <td>0.61</td>\n",
       "    </tr>\n",
       "    <tr>\n",
       "      <th>5</th>\n",
       "      <td>nb</td>\n",
       "      <td>56.29</td>\n",
       "      <td>51.44</td>\n",
       "      <td>42.65</td>\n",
       "      <td>29.21</td>\n",
       "      <td>0.59</td>\n",
       "    </tr>\n",
       "    <tr>\n",
       "      <th>6</th>\n",
       "      <td>knn</td>\n",
       "      <td>53.67</td>\n",
       "      <td>52.08</td>\n",
       "      <td>52.34</td>\n",
       "      <td>46.07</td>\n",
       "      <td>0.53</td>\n",
       "    </tr>\n",
       "    <tr>\n",
       "      <th>7</th>\n",
       "      <td>xgb</td>\n",
       "      <td>55.92</td>\n",
       "      <td>54.88</td>\n",
       "      <td>28.12</td>\n",
       "      <td>16.37</td>\n",
       "      <td>0.61</td>\n",
       "    </tr>\n",
       "  </tbody>\n",
       "</table>\n",
       "</div>"
      ],
      "text/plain": [
       "  model  bal_acc_train  bal_acc_test  recall  fallout   AUC\n",
       "0   dtc          52.15         51.83   43.19    38.40  0.52\n",
       "1    lr          54.45         54.19   55.85    41.22  0.61\n",
       "2    nc          57.32         56.99   55.74    41.68  0.57\n",
       "3   rfc          55.20         54.45   32.48    21.08  0.59\n",
       "4   gbc          54.63         54.58   29.89    17.90  0.61\n",
       "5    nb          56.29         51.44   42.65    29.21  0.59\n",
       "6   knn          53.67         52.08   52.34    46.07  0.53\n",
       "7   xgb          55.92         54.88   28.12    16.37  0.61"
      ]
     },
     "execution_count": 60,
     "metadata": {},
     "output_type": "execute_result"
    }
   ],
   "source": [
    "df_eval_smote = pd.DataFrame(data={'model': list(cv_acc_balance_test.keys()), \n",
    "                                   'bal_acc_train':list(cv_acc_balance_train.values()),\n",
    "                                   'bal_acc_test': list(cv_acc_balance_test.values()),\n",
    "                                   'recall': list(cv_TPR_balance.values()), \n",
    "                                   'fallout':list(cv_FPR_balance.values()),\n",
    "                                   'AUC': list(cv_AUC_balance.values())}).round(2)\n",
    "df_eval_smote"
   ]
  },
  {
   "cell_type": "code",
   "execution_count": 61,
   "metadata": {},
   "outputs": [
    {
     "data": {
      "image/png": "[encoded data removed]",
      "text/plain": [
       "<Figure size 1440x576 with 8 Axes>"
      ]
     },
     "metadata": {
      "needs_background": "light"
     },
     "output_type": "display_data"
    }
   ],
   "source": [
    "fig, ax = plt.subplots(2,4, figsize=(20, 8))\n",
    "\n",
    "sns.barplot(x=\"bal_acc_train\", y=\"model\", data=df_eval.sort_values(by=\"recall\"), ax=ax[0,0])\n",
    "ax[0,0].set_title(\"Unbalanced Train Acc\")\n",
    "sns.barplot(x=\"bal_acc_test\", y=\"model\", data=df_eval.sort_values(by=\"recall\"), ax=ax[0,1])\n",
    "ax[0,1].set_title(\"Unbalanced Test Acc\")\n",
    "sns.barplot(x=\"recall\", y=\"model\", data=df_eval.sort_values(by=\"recall\"), ax=ax[0,2])\n",
    "ax[0,2].set_title(\"Unbalanced Test TPR\")\n",
    "sns.barplot(x=\"fallout\", y=\"model\", data=df_eval.sort_values(by=\"recall\"), ax=ax[0,3])\n",
    "ax[0,3].set_title(\"Unbalanced Test FPR\")\n",
    "\n",
    "sns.barplot(x=\"bal_acc_train\", y=\"model\", data=df_eval_smote.sort_values(by=\"recall\"), ax=ax[1,0])\n",
    "ax[1,0].set_title(\"Smote Model Train Acc\")\n",
    "sns.barplot(x=\"bal_acc_test\", y=\"model\", data=df_eval_smote.sort_values(by=\"recall\"), ax=ax[1,1])\n",
    "ax[1,1].set_title(\"Smote Model Test Acc\")\n",
    "sns.barplot(x=\"recall\", y=\"model\", data=df_eval_smote.sort_values(by=\"recall\"), ax=ax[1,2])\n",
    "ax[1,2].set_title(\"Smote Model Test TPR\")\n",
    "sns.barplot(x=\"fallout\", y=\"model\", data=df_eval_smote.sort_values(by=\"recall\"), ax=ax[1,3])\n",
    "ax[1,3].set_title(\"Smote Model Test FPR\")\n",
    "\n",
    "plt.tight_layout()\n",
    "plt.show()"
   ]
  },
  {
   "cell_type": "code",
   "execution_count": 62,
   "metadata": {},
   "outputs": [
    {
     "data": {
      "image/png": "[encoded data removed]",
      "text/plain": [
       "<Figure size 720x720 with 2 Axes>"
      ]
     },
     "metadata": {
      "needs_background": "light"
     },
     "output_type": "display_data"
    }
   ],
   "source": [
    "plot_ROC()"
   ]
  },
  {
   "cell_type": "markdown",
   "metadata": {},
   "source": [
    "GradientBoosting yielded the optimized result as better FPR and relative mean strong recall scores. The balance accuracy is also relatively good."
   ]
  },
  {
   "cell_type": "markdown",
   "metadata": {},
   "source": [
    "## Iteration 3: (with RUS)"
   ]
  },
  {
   "cell_type": "code",
   "execution_count": 63,
   "metadata": {},
   "outputs": [],
   "source": [
    "import imblearn\n",
    "from imblearn.under_sampling import RandomUnderSampler, EditedNearestNeighbours, NearMiss"
   ]
  },
  {
   "cell_type": "code",
   "execution_count": 64,
   "metadata": {},
   "outputs": [
    {
     "ename": "AttributeError",
     "evalue": "'RandomUnderSampler' object has no attribute 'fit_sample'",
     "output_type": "error",
     "traceback": [
      "\u001b[1;31m---------------------------------------------------------------------------\u001b[0m",
      "\u001b[1;31mAttributeError\u001b[0m                            Traceback (most recent call last)",
      "\u001b[1;32m~\\AppData\\Local\\Temp/ipykernel_11252/674091804.py\u001b[0m in \u001b[0;36m<module>\u001b[1;34m\u001b[0m\n\u001b[0;32m      1\u001b[0m \u001b[0munder_sampler\u001b[0m \u001b[1;33m=\u001b[0m \u001b[0mRandomUnderSampler\u001b[0m\u001b[1;33m(\u001b[0m\u001b[0mrandom_state\u001b[0m\u001b[1;33m=\u001b[0m\u001b[1;36m42\u001b[0m\u001b[1;33m)\u001b[0m\u001b[1;33m\u001b[0m\u001b[1;33m\u001b[0m\u001b[0m\n\u001b[1;32m----> 2\u001b[1;33m \u001b[0mX_train_rus\u001b[0m\u001b[1;33m,\u001b[0m \u001b[0my_train_rus\u001b[0m \u001b[1;33m=\u001b[0m \u001b[0munder_sampler\u001b[0m\u001b[1;33m.\u001b[0m\u001b[0mfit_sample\u001b[0m\u001b[1;33m(\u001b[0m\u001b[0mX_train\u001b[0m\u001b[1;33m,\u001b[0m \u001b[0my_train\u001b[0m\u001b[1;33m)\u001b[0m\u001b[1;33m\u001b[0m\u001b[1;33m\u001b[0m\u001b[0m\n\u001b[0m",
      "\u001b[1;31mAttributeError\u001b[0m: 'RandomUnderSampler' object has no attribute 'fit_sample'"
     ]
    }
   ],
   "source": [
    "under_sampler = RandomUnderSampler(random_state=42)\n",
    "X_train_rus, y_train_rus = under_sampler.fit_sample(X_train, y_train)"
   ]
  },
  {
   "cell_type": "code",
   "execution_count": null,
   "metadata": {},
   "outputs": [],
   "source": [
    "ax = y_train_rus.value_counts().plot.bar(color=[\"blue\", \"red\"])\n",
    "labels(ax)\n",
    "plt.show()"
   ]
  },
  {
   "cell_type": "markdown",
   "metadata": {},
   "source": [
    "#### Use Algorithm"
   ]
  },
  {
   "cell_type": "code",
   "execution_count": null,
   "metadata": {},
   "outputs": [],
   "source": [
    "cv_acc_rus_train = {}\n",
    "cv_acc_rus_test = {}\n",
    "cv_TPR_rus = {}\n",
    "cv_FPR_rus = {}\n",
    "cv_AUC_rus = {}"
   ]
  },
  {
   "cell_type": "code",
   "execution_count": null,
   "metadata": {},
   "outputs": [],
   "source": [
    "def plot_result_rus(model, name:str):\n",
    "    model.fit(X_train_rus, y_train_rus)\n",
    "    y_pred = model.predict(X_test)\n",
    "\n",
    "    # Evaluation based on a 10-fold cross-validation\n",
    "    scoring = ['balanced_accuracy', 'recall_macro']\n",
    "    scores_train = cross_val_score(model, X_train, y_train, cv=10, scoring = 'balanced_accuracy')\n",
    "    scores_test = cross_val_score(model, X_test, y_test, cv=10, scoring = 'balanced_accuracy')\n",
    "    cv_acc_rus_train[name] = round(scores_train.mean(), 4)*100  # balanced accuracy\n",
    "    cv_acc_rus_test[name] = round(scores_test.mean(), 4)*100  # balanced accuracy\n",
    "    cv_TPR_rus[name] = (confusion_matrix(y_test, y_pred)[1][1]/confusion_matrix(y_test, y_pred)[1].sum())*100  # recall (max)\n",
    "    cv_FPR_rus[name] = (confusion_matrix(y_test, y_pred)[0][1]/confusion_matrix(y_test, y_pred)[0].sum())*100  # fallout (min)\n",
    "    \n",
    "    # accuracy scores\n",
    "    print('Average Balanced Accuracy (CV=10), Test Set:', scores_test.mean())  \n",
    "    print('Average Balanced Accuracy (CV=10), Training Set: ', scores_train.mean())\n",
    "\n",
    "    # print classification report\n",
    "    print(classification_report(y_test, y_pred, zero_division=0))\n",
    "\n",
    "    # Plot Confusion Matrix\n",
    "    plot_confusion_matrix(model, X_test, y_test)\n",
    "    plt.show()"
   ]
  },
  {
   "cell_type": "code",
   "execution_count": null,
   "metadata": {},
   "outputs": [],
   "source": [
    "# Decision tree\n",
    "dtc = DecisionTreeClassifier()\n",
    "\n",
    "plot_result_rus(dtc, \"dtc\")"
   ]
  },
  {
   "cell_type": "code",
   "execution_count": null,
   "metadata": {},
   "outputs": [],
   "source": [
    "# Logistic Regression\n",
    "lr = LogisticRegression()\n",
    "plot_result_rus(lr, \"lr\")"
   ]
  },
  {
   "cell_type": "code",
   "execution_count": null,
   "metadata": {},
   "outputs": [],
   "source": [
    "# NearestCentroid\n",
    "nc = NearestCentroid()\n",
    "plot_result_rus(nc, \"nc\")"
   ]
  },
  {
   "cell_type": "code",
   "execution_count": null,
   "metadata": {},
   "outputs": [],
   "source": [
    "# # SVC\n",
    "# svc = SVC()\n",
    "# plot_result_rus(svc, \"svc\")"
   ]
  },
  {
   "cell_type": "code",
   "execution_count": null,
   "metadata": {},
   "outputs": [],
   "source": [
    "# Random Forest\n",
    "rfc = RandomForestClassifier()\n",
    "plot_result_rus(rfc, \"rfc\")"
   ]
  },
  {
   "cell_type": "code",
   "execution_count": null,
   "metadata": {},
   "outputs": [],
   "source": [
    "# Gradient Boost\n",
    "gbc = GradientBoostingClassifier(random_state=42)\n",
    "plot_result_rus(gbc, \"gbc\")"
   ]
  },
  {
   "cell_type": "code",
   "execution_count": null,
   "metadata": {},
   "outputs": [],
   "source": [
    "# Naive Bayes\n",
    "nb = GaussianNB()\n",
    "plot_result_rus(nb, \"nb\")"
   ]
  },
  {
   "cell_type": "code",
   "execution_count": null,
   "metadata": {},
   "outputs": [],
   "source": [
    "# kNN\n",
    "knn = KNeighborsClassifier()\n",
    "plot_result_rus(knn, \"knn\")"
   ]
  },
  {
   "cell_type": "code",
   "execution_count": null,
   "metadata": {},
   "outputs": [],
   "source": [
    "# XGBOOST\n",
    "xgb = XGBClassifier(eval_metric = \"logloss\",random_state=42)\n",
    "plot_result_rus(xgb, \"xgb\");"
   ]
  },
  {
   "cell_type": "code",
   "execution_count": null,
   "metadata": {},
   "outputs": [],
   "source": [
    "cv_AUC_rus = AUC(cv_AUC_rus)"
   ]
  },
  {
   "cell_type": "code",
   "execution_count": null,
   "metadata": {},
   "outputs": [],
   "source": [
    "df_eval_rus = pd.DataFrame(data={'model': list(cv_acc_rus_train.keys()), \n",
    "                             'bal_acc_train':list(cv_acc_rus_train.values()),\n",
    "                             'bal_acc_test': list(cv_acc_rus_test.values()), \n",
    "                             'recall': list(cv_TPR_rus.values()), \n",
    "                             'fallout':list(cv_FPR_rus.values()),\n",
    "                             'AUC': list(cv_AUC_rus.values())}).round(2)    \n",
    "df_eval_rus"
   ]
  },
  {
   "cell_type": "code",
   "execution_count": null,
   "metadata": {},
   "outputs": [],
   "source": [
    "fig, ax = plt.subplots(3,4, figsize=(20, 12))\n",
    "\n",
    "sns.barplot(x=\"bal_acc_train\", y=\"model\", data=df_eval.sort_values(by=\"recall\"), ax=ax[0,0])\n",
    "ax[0,0].set_title(\"Unbalanced Train Acc\")\n",
    "sns.barplot(x=\"bal_acc_test\", y=\"model\", data=df_eval.sort_values(by=\"recall\"), ax=ax[0,1])\n",
    "ax[0,1].set_title(\"Unbalanced Test Acc\")\n",
    "sns.barplot(x=\"recall\", y=\"model\", data=df_eval.sort_values(by=\"recall\"), ax=ax[0,2])\n",
    "ax[0,2].set_title(\"Unbalanced Test TPR\")\n",
    "sns.barplot(x=\"fallout\", y=\"model\", data=df_eval.sort_values(by=\"recall\"), ax=ax[0,3])\n",
    "ax[0,3].set_title(\"Unbalanced Test FPR\")\n",
    "\n",
    "sns.barplot(x=\"bal_acc_train\", y=\"model\", data=df_eval_smote.sort_values(by=\"recall\"), ax=ax[1,0])\n",
    "ax[1,0].set_title(\"Smote Model Train Acc\")\n",
    "sns.barplot(x=\"bal_acc_test\", y=\"model\", data=df_eval_smote.sort_values(by=\"recall\"), ax=ax[1,1])\n",
    "ax[1,1].set_title(\"Smote Model Test Acc\")\n",
    "sns.barplot(x=\"recall\", y=\"model\", data=df_eval_smote.sort_values(by=\"recall\"), ax=ax[1,2])\n",
    "ax[1,2].set_title(\"Smote Model Test TPR\")\n",
    "sns.barplot(x=\"fallout\", y=\"model\", data=df_eval_smote.sort_values(by=\"recall\"), ax=ax[1,3])\n",
    "ax[1,3].set_title(\"Smote Model Test FPR\")\n",
    "\n",
    "sns.barplot(x=\"bal_acc_train\", y=\"model\", data=df_eval_rus.sort_values(by=\"recall\"), ax=ax[2,0])\n",
    "ax[2,0].set_title(\"RUS_Featured Model Test Acc\")\n",
    "sns.barplot(x=\"bal_acc_test\", y=\"model\", data=df_eval_rus.sort_values(by=\"recall\"), ax=ax[2,1])\n",
    "ax[2,1].set_title(\"RUS_Featured Model Test Acc\")\n",
    "sns.barplot(x=\"recall\", y=\"model\", data=df_eval_rus.sort_values(by=\"recall\"), ax=ax[2,2])\n",
    "ax[2,2].set_title(\"RUS_Featured Model Test TPR\")\n",
    "sns.barplot(x=\"fallout\", y=\"model\", data=df_eval_rus.sort_values(by=\"recall\"), ax=ax[2,3])\n",
    "ax[2,3].set_title(\"RUS_Featured Model Test FPR\")\n",
    "\n",
    "plt.tight_layout()\n",
    "plt.show()"
   ]
  },
  {
   "cell_type": "code",
   "execution_count": null,
   "metadata": {},
   "outputs": [],
   "source": [
    "plot_ROC()"
   ]
  },
  {
   "cell_type": "markdown",
   "metadata": {},
   "source": [
    "## Iteration 4: (with SMOTE and PCA)"
   ]
  },
  {
   "cell_type": "code",
   "execution_count": null,
   "metadata": {},
   "outputs": [],
   "source": [
    "from sklearn.decomposition import PCA"
   ]
  },
  {
   "cell_type": "code",
   "execution_count": null,
   "metadata": {},
   "outputs": [],
   "source": [
    "pca = PCA().fit(X_train_os)"
   ]
  },
  {
   "cell_type": "code",
   "execution_count": null,
   "metadata": {},
   "outputs": [],
   "source": [
    "fig, ax = plt.subplots(figsize=(20,8))\n",
    "xi = np.arange(0, 54, step=1)\n",
    "y = np.cumsum(pca.explained_variance_ratio_[0:160:1])\n",
    "\n",
    "plt.ylim(0.0,1.1)\n",
    "plt.plot(xi, y, marker='.', linestyle='--', color='b')\n",
    "\n",
    "plt.xlabel('Number of Components')\n",
    "plt.xticks(np.arange(0, 54, step=2), rotation=90) #change from 0-based array index to 1-based human-readable label\n",
    "plt.ylabel('Cumulative variance (%)')\n",
    "plt.title('The number of components needed to explain variance')\n",
    "\n",
    "plt.axhline(y=0.95, color='r', linestyle='-')\n",
    "plt.text(0.5, 0.85, '95% cut-off threshold', color = 'red', fontsize=16)\n",
    "\n",
    "ax.grid(axis='x')\n",
    "plt.show()"
   ]
  },
  {
   "cell_type": "markdown",
   "metadata": {},
   "source": [
    "It looks like n_components = 43 is suitable for% 95 total explained variance,"
   ]
  },
  {
   "cell_type": "code",
   "execution_count": null,
   "metadata": {},
   "outputs": [],
   "source": [
    "pca = PCA(n_components=43)\n",
    "pca.fit(X_train_os)\n",
    "per_var = np.round(pca.explained_variance_ratio_ * 100, 1)\n",
    "labels = ['PC' + str(x) for x in range(1,len(per_var)+1)]\n",
    "\n",
    "plt.figure(figsize=(20,6))\n",
    "plt.bar(x=range(len(per_var)), height=per_var, tick_label=labels)\n",
    "plt.title('Total explained variance {}'.format(np.round(sum(per_var),2)))\n",
    "plt.ylabel('Explained variance in percent')\n",
    "plt.xticks(rotation=90)\n",
    "plt.show()"
   ]
  },
  {
   "cell_type": "code",
   "execution_count": null,
   "metadata": {},
   "outputs": [],
   "source": [
    "X_train_os_pca = pca.transform(X_train_os)\n",
    "pd.DataFrame(X_train_os_pca)"
   ]
  },
  {
   "cell_type": "markdown",
   "metadata": {},
   "source": [
    "The loads (loading scores) indicate \"how high a variable X loads on a factor Y\". \n",
    "\n",
    "(The i-th principal components can be selected via i in pca.components_ [0].)"
   ]
  },
  {
   "cell_type": "code",
   "execution_count": null,
   "metadata": {},
   "outputs": [],
   "source": [
    "# Top 20 columns that have the greatest impact\n",
    "loading_scores = pd.Series(pca.components_[0], index=X.columns)\n",
    "loading_scores.abs().sort_values(ascending=False)[:20]"
   ]
  },
  {
   "cell_type": "markdown",
   "metadata": {},
   "source": [
    "#### Use Algorithm"
   ]
  },
  {
   "cell_type": "code",
   "execution_count": null,
   "metadata": {},
   "outputs": [],
   "source": [
    "X_test_pca = pca.transform(X_test)"
   ]
  },
  {
   "cell_type": "code",
   "execution_count": null,
   "metadata": {},
   "outputs": [],
   "source": [
    "cv_acc_balance_train_pca = {}\n",
    "cv_acc_balance_test_pca = {}\n",
    "cv_TPR_balance_pca = {}\n",
    "cv_FPR_balance_pca = {}\n",
    "cv_AUC_balance_pca = {}"
   ]
  },
  {
   "cell_type": "code",
   "execution_count": null,
   "metadata": {},
   "outputs": [],
   "source": [
    "def plot_result_smoted_pca(model, name:str):\n",
    "    model.fit(X_train_os_pca, y_train_os)\n",
    "    y_pred = model.predict(X_test_pca)\n",
    "\n",
    "    # Evaluation based on a 10-fold cross-validation\n",
    "    scoring = ['balanced_accuracy', 'recall_macro']\n",
    "    scores_train = cross_val_score(model, X_train_os_pca, y_train_os, cv=10, scoring = 'balanced_accuracy')\n",
    "    scores_test = cross_val_score(model, X_test_pca, y_test, cv=10, scoring = 'balanced_accuracy')\n",
    "    cv_acc_balance_train_pca[name] = round(scores_train.mean(), 4)*100  # balanced accuracy\n",
    "    cv_acc_balance_test_pca[name] = round(scores_test.mean(), 4)*100  # balanced accuracy\n",
    "    cv_TPR_balance_pca[name] = (confusion_matrix(y_test, y_pred)[1][1]/confusion_matrix(y_test, y_pred)[1].sum())*100  # recall (max)\n",
    "    cv_FPR_balance_pca[name] = (confusion_matrix(y_test, y_pred)[0][1]/confusion_matrix(y_test, y_pred)[0].sum())*100  # fallout (min)\n",
    "\n",
    "    # accuracy scores\n",
    "    print('Average Balanced Accuracy (CV=10), Test Set:', scores_test.mean())  \n",
    "    print('Average Balanced Accuracy (CV=10), Training Set: ', scores_train.mean())\n",
    "\n",
    "    # print classification report\n",
    "    print(classification_report(y_test, y_pred, zero_division=0))\n",
    "\n",
    "    # Plot confusion matrix\n",
    "    plt.figure(figsize=(3,3))\n",
    "    plot_confusion_matrix(model, X_test_pca, y_test)\n",
    "    plt.show()"
   ]
  },
  {
   "cell_type": "code",
   "execution_count": null,
   "metadata": {},
   "outputs": [],
   "source": [
    "# Decision tree\n",
    "dtc = DecisionTreeClassifier()\n",
    "plot_result_smoted_pca(dtc, \"dtc\")"
   ]
  },
  {
   "cell_type": "code",
   "execution_count": null,
   "metadata": {},
   "outputs": [],
   "source": [
    "# Logistic Regression\n",
    "lr = LogisticRegression()\n",
    "plot_result_smoted_pca(lr, \"lr\")"
   ]
  },
  {
   "cell_type": "code",
   "execution_count": null,
   "metadata": {},
   "outputs": [],
   "source": [
    "# NearestCentroid\n",
    "nc = NearestCentroid()\n",
    "plot_result_smoted_pca(nc, \"nc\")"
   ]
  },
  {
   "cell_type": "code",
   "execution_count": null,
   "metadata": {},
   "outputs": [],
   "source": [
    "# # SVC\n",
    "# svc = SVC()\n",
    "# plot_result_smoted_pca(svc, \"svc\")"
   ]
  },
  {
   "cell_type": "code",
   "execution_count": null,
   "metadata": {},
   "outputs": [],
   "source": [
    "# Random Forest\n",
    "rfc = RandomForestClassifier()\n",
    "plot_result_smoted_pca(rfc, \"rfc\")"
   ]
  },
  {
   "cell_type": "code",
   "execution_count": null,
   "metadata": {},
   "outputs": [],
   "source": [
    "# Gradient Boost\n",
    "gbc = GradientBoostingClassifier()\n",
    "plot_result_smoted_pca(gbc, \"gbc\")"
   ]
  },
  {
   "cell_type": "code",
   "execution_count": null,
   "metadata": {},
   "outputs": [],
   "source": [
    "# Naive Bayes\n",
    "nb = GaussianNB()\n",
    "plot_result_smoted_pca(nb, \"nb\")"
   ]
  },
  {
   "cell_type": "code",
   "execution_count": null,
   "metadata": {},
   "outputs": [],
   "source": [
    "# kNN\n",
    "knn = KNeighborsClassifier()\n",
    "plot_result_smoted_pca(knn, \"knn\")"
   ]
  },
  {
   "cell_type": "code",
   "execution_count": null,
   "metadata": {},
   "outputs": [],
   "source": [
    "# XGBOOST\n",
    "xgb = XGBClassifier(eval_metric = \"logloss\")\n",
    "plot_result_smoted_pca(xgb, \"xgb\");"
   ]
  },
  {
   "cell_type": "code",
   "execution_count": null,
   "metadata": {},
   "outputs": [],
   "source": [
    "cv_AUC_balance_pca = AUC(cv_AUC_balance_pca, X_test_pca)\n",
    "cv_AUC_balance_pca"
   ]
  },
  {
   "cell_type": "code",
   "execution_count": null,
   "metadata": {},
   "outputs": [],
   "source": [
    "df_eval_smote_pca = pd.DataFrame(data={'model': list(cv_acc_balance_train_pca.keys()), \n",
    "                                       'bal_acc_train':list(cv_acc_balance_train_pca.values()),\n",
    "                                       'bal_acc_test': list(cv_acc_balance_test_pca.values()),\n",
    "                                       'recall': list(cv_TPR_balance_pca.values()), \n",
    "                                       'fallout':list(cv_FPR_balance_pca.values()),\n",
    "                                       'AUC': list(cv_AUC_rus.values())}).round(2)\n",
    "df_eval_smote_pca"
   ]
  },
  {
   "cell_type": "code",
   "execution_count": null,
   "metadata": {},
   "outputs": [],
   "source": [
    "fig, ax = plt.subplots(4,4, figsize=(20, 16))\n",
    "\n",
    "sns.barplot(x=\"bal_acc_train\", y=\"model\", data=df_eval.sort_values(by=\"recall\"), ax=ax[0,0])\n",
    "ax[0,0].set_title(\"Unbalanced Train Acc\")\n",
    "sns.barplot(x=\"bal_acc_test\", y=\"model\", data=df_eval.sort_values(by=\"recall\"), ax=ax[0,1])\n",
    "ax[0,1].set_title(\"Unbalanced Test Acc\")\n",
    "sns.barplot(x=\"recall\", y=\"model\", data=df_eval.sort_values(by=\"recall\"), ax=ax[0,2])\n",
    "ax[0,2].set_title(\"Unbalanced Test TPR\")\n",
    "sns.barplot(x=\"fallout\", y=\"model\", data=df_eval.sort_values(by=\"recall\"), ax=ax[0,3])\n",
    "ax[0,3].set_title(\"Unbalanced Test FPR\")\n",
    "\n",
    "sns.barplot(x=\"bal_acc_train\", y=\"model\", data=df_eval_smote.sort_values(by=\"recall\"), ax=ax[1,0])\n",
    "ax[1,0].set_title(\"Smote Model Train Acc\")\n",
    "sns.barplot(x=\"bal_acc_test\", y=\"model\", data=df_eval_smote.sort_values(by=\"recall\"), ax=ax[1,1])\n",
    "ax[1,1].set_title(\"Smote Model Test Acc\")\n",
    "sns.barplot(x=\"recall\", y=\"model\", data=df_eval_smote.sort_values(by=\"recall\"), ax=ax[1,2])\n",
    "ax[1,2].set_title(\"Smote Model Test TPR\")\n",
    "sns.barplot(x=\"fallout\", y=\"model\", data=df_eval_smote.sort_values(by=\"recall\"), ax=ax[1,3])\n",
    "ax[1,3].set_title(\"Smote Model Test FPR\")\n",
    "\n",
    "sns.barplot(x=\"bal_acc_train\", y=\"model\", data=df_eval_rus.sort_values(by=\"recall\"), ax=ax[2,0])\n",
    "ax[2,0].set_title(\"RUS_Featured Model Test Acc\")\n",
    "sns.barplot(x=\"bal_acc_test\", y=\"model\", data=df_eval_rus.sort_values(by=\"recall\"), ax=ax[2,1])\n",
    "ax[2,1].set_title(\"RUS_Featured Model Test Acc\")\n",
    "sns.barplot(x=\"recall\", y=\"model\", data=df_eval_rus.sort_values(by=\"recall\"), ax=ax[2,2])\n",
    "ax[2,2].set_title(\"RUS_Featured Model Test TPR\")\n",
    "sns.barplot(x=\"fallout\", y=\"model\", data=df_eval_rus.sort_values(by=\"recall\"), ax=ax[2,3])\n",
    "ax[2,3].set_title(\"RUS_Featured Model Test FPR\")\n",
    "\n",
    "sns.barplot(x=\"bal_acc_train\", y=\"model\", data=df_eval_smote_pca.sort_values(by=\"recall\"), ax=ax[3,0])\n",
    "ax[3,0].set_title(\"Smoted_PCA Model Train Acc\")\n",
    "sns.barplot(x=\"bal_acc_test\", y=\"model\", data=df_eval_smote_pca.sort_values(by=\"recall\"), ax=ax[3,1])\n",
    "ax[3,1].set_title(\"Smoted_PCA Model Test Acc\")\n",
    "sns.barplot(x=\"recall\", y=\"model\", data=df_eval_smote_pca.sort_values(by=\"recall\"), ax=ax[3,2])\n",
    "ax[3,2].set_title(\"Smoted_PCA Model Test TPR\")\n",
    "sns.barplot(x=\"fallout\", y=\"model\", data=df_eval_smote_pca.sort_values(by=\"recall\"), ax=ax[3,3])\n",
    "ax[3,3].set_title(\"Smoted_PCA Model Test FPR\")\n",
    "\n",
    "plt.tight_layout()\n",
    "plt.show()"
   ]
  },
  {
   "cell_type": "code",
   "execution_count": null,
   "metadata": {},
   "outputs": [],
   "source": [
    "plot_ROC(X_test_pca)"
   ]
  },
  {
   "cell_type": "markdown",
   "metadata": {},
   "source": [
    "According to Smote and PCA, none of the models really gave relatively good results."
   ]
  },
  {
   "cell_type": "code",
   "execution_count": null,
   "metadata": {},
   "outputs": [],
   "source": [
    "df_eval[\"type\"] = \"Unbalanced\"\n",
    "df_eval_smote[\"type\"] = \"Smote\"\n",
    "df_eval_rus[\"type\"] = \"RUS\"\n",
    "df_eval_smote_pca[\"type\"] = \"Smote_PCA\""
   ]
  },
  {
   "cell_type": "code",
   "execution_count": null,
   "metadata": {},
   "outputs": [],
   "source": [
    "frames = [df_eval, df_eval_smote, df_eval_rus, df_eval_smote_pca]\n",
    "df_result = pd.concat(frames, ignore_index=True)\n",
    "df_result['model'] = df_result['model'].str.upper()\n",
    "df_result[[\"recall\", \"fallout\", \"bal_acc_train\", \"bal_acc_test\",'AUC']] = df_result[[\"recall\", \"fallout\",  \"bal_acc_train\", \"bal_acc_test\",'AUC']].apply(lambda x: np.round(x, 2))"
   ]
  },
  {
   "cell_type": "code",
   "execution_count": null,
   "metadata": {},
   "outputs": [],
   "source": [
    "df_result"
   ]
  },
  {
   "cell_type": "code",
   "execution_count": null,
   "metadata": {},
   "outputs": [],
   "source": [
    "sns.relplot(x=\"recall\", y=\"AUC\", hue=\"model\", size=\"bal_acc_test\", \n",
    "            sizes=(40, 400), col=\"type\", alpha=1, palette=\"bright\", height=4, legend='full', data=df_result)"
   ]
  },
  {
   "cell_type": "markdown",
   "metadata": {},
   "source": [
    "In this plot it looks like GradientBoosting in Smote has a better result"
   ]
  },
  {
   "cell_type": "markdown",
   "metadata": {},
   "source": [
    "## Iteration 5: (with SMOTE and hyperparameter optimization)"
   ]
  },
  {
   "cell_type": "markdown",
   "metadata": {},
   "source": [
    "Smote_PCA looks better than Smote. Hyperparameter is optimized by Smote_PCA."
   ]
  },
  {
   "cell_type": "markdown",
   "metadata": {},
   "source": [
    "#### GridSearch"
   ]
  },
  {
   "cell_type": "code",
   "execution_count": null,
   "metadata": {},
   "outputs": [],
   "source": [
    "from sklearn.model_selection import GridSearchCV,RandomizedSearchCV\n",
    "from sklearn.pipeline import Pipeline"
   ]
  },
  {
   "cell_type": "markdown",
   "metadata": {},
   "source": [
    "#### Use Algorithm"
   ]
  },
  {
   "cell_type": "code",
   "execution_count": null,
   "metadata": {},
   "outputs": [],
   "source": [
    "cv_acc_balance_PCA_train_tuned = {}\n",
    "cv_acc_balance_PCA_test_tuned = {}\n",
    "cv_TPR_balance_PCA_tuned = {}\n",
    "cv_FPR_balance_PCA_tuned = {}\n",
    "cv_AUC_balance_PCA_tuned = {}"
   ]
  },
  {
   "cell_type": "code",
   "execution_count": null,
   "metadata": {},
   "outputs": [],
   "source": [
    "def plot_result_smote_pca_tuned(model, name:str):\n",
    "    model.fit(X_train_os_pca, y_train_os)\n",
    "    y_pred = model.predict(X_test_pca)\n",
    "\n",
    "    # Evaluation based on a 10-fold cross-validation\n",
    "    scores_train = cross_val_score(model, X_train_os_pca, y_train_os, cv=10, scoring = 'balanced_accuracy')\n",
    "    scores_test = cross_val_score(model, X_test_pca, y_test, cv=10, scoring = 'balanced_accuracy')\n",
    "    cv_acc_balance_PCA_train_tuned[name] = round(scores_train.mean(), 4)*100  # balanced accuracy\n",
    "    cv_acc_balance_PCA_test_tuned[name] = round(scores_test.mean(), 4)*100  # balanced accuracy\n",
    "    cv_TPR_balance_PCA_tuned[name] = (confusion_matrix(y_test, y_pred)[1][1]/confusion_matrix(y_test, y_pred)[1].sum())*100  # recall (max)\n",
    "    cv_FPR_balance_PCA_tuned[name] = (confusion_matrix(y_test, y_pred)[0][1]/confusion_matrix(y_test, y_pred)[0].sum())*100  # fallout (min)\n",
    "    \n",
    "    # accuracy scores\n",
    "    print('Average Balanced Accuracy (CV=10), Test Set:', scores_test.mean())  \n",
    "    print('Average Balanced Accuracy (CV=10), Training Set: ', scores_train.mean())\n",
    "\n",
    "    # print classification report\n",
    "    print(classification_report(y_test, y_pred, zero_division=0))\n",
    "\n",
    "    # Plot confusion matrix\n",
    "    plt.figure(figsize=(3,3))\n",
    "    plot_confusion_matrix(model, X_test_pca, y_test)\n",
    "    plt.show()"
   ]
  },
  {
   "cell_type": "code",
   "execution_count": null,
   "metadata": {},
   "outputs": [],
   "source": [
    "# Decision Tree\n",
    "params = {'criterion' : [\"gini\", \"entropy\"],\n",
    "          'max_depth':[2, 5, 10], \n",
    "          'min_samples_leaf':[20, 10, 1],\n",
    "          'min_samples_split':[2, 4, 8]}\n",
    "\n",
    "grid_searcher = GridSearchCV(DecisionTreeClassifier(), params)\n",
    "grid_searcher.fit(X_train_os_pca, y_train_os)\n",
    "dtc = grid_searcher\n",
    "print(grid_searcher.best_estimator_)\n",
    "plot_result_smote_pca_tuned(grid_searcher, \"dtc\")"
   ]
  },
  {
   "cell_type": "code",
   "execution_count": null,
   "metadata": {},
   "outputs": [],
   "source": [
    "# Logistic Regression\n",
    "params = {'penalty' : ['l1', 'l2'],\n",
    "          'C' : np.logspace(-4, 4, 10),\n",
    "          'max_iter':[200, 300],\n",
    "          'solver' : ['liblinear']}\n",
    "\n",
    "grid_searcher = GridSearchCV(LogisticRegression(), params)\n",
    "grid_searcher.fit(X_train_os_pca, y_train_os)\n",
    "lr = grid_searcher\n",
    "print(grid_searcher.best_estimator_)\n",
    "plot_result_smote_pca_tuned(grid_searcher.best_estimator_, \"lr\")"
   ]
  },
  {
   "cell_type": "code",
   "execution_count": null,
   "metadata": {},
   "outputs": [],
   "source": [
    "# NearestCentroid\n",
    "params={'metric': ['euclidean', 'manhattan'],\n",
    "        'shrink_threshold' : [0.01, 0.1, 0.5]}\n",
    "\n",
    "grid_searcher = GridSearchCV(NearestCentroid(), params)\n",
    "grid_searcher.fit(X_train_os_pca, y_train_os)\n",
    "nc = grid_searcher\n",
    "print(grid_searcher.best_estimator_)\n",
    "plot_result_smote_pca_tuned(grid_searcher.best_estimator_, \"nc\")"
   ]
  },
  {
   "cell_type": "code",
   "execution_count": null,
   "metadata": {},
   "outputs": [],
   "source": [
    "# # SVC\n",
    "# params = {'kernel':(['linear','rbf']), \n",
    "#           'C':[0.01,1,10], \n",
    "#           'gamma':[0.01, 0.1, 1]}\n",
    "\n",
    "# grid_searcher = GridSearchCV(SVC(), params)\n",
    "# grid_searcher.fit(X_train_os, y_train_os)\n",
    "# svc = grid_searcher\n",
    "# print(grid_searcher.best_estimator_)\n",
    "# plot_result_smote_pca_tuned(grid_searcher.best_estimator_, \"svc\")"
   ]
  },
  {
   "cell_type": "code",
   "execution_count": null,
   "metadata": {},
   "outputs": [],
   "source": [
    "# Random Forest\n",
    "params={'criterion': ['entropy', 'gini'],\n",
    "        'n_estimators' : [10,50,100],\n",
    "        'max_features' : [5,15,25]}\n",
    "\n",
    "grid_searcher = GridSearchCV(RandomForestClassifier(), params)\n",
    "grid_searcher.fit(X_train_os_pca, y_train_os)\n",
    "rfc = grid_searcher\n",
    "print(grid_searcher.best_estimator_)"
   ]
  },
  {
   "cell_type": "code",
   "execution_count": null,
   "metadata": {},
   "outputs": [],
   "source": [
    "plot_result_smote_pca_tuned(grid_searcher.best_estimator_, \"rfc\")"
   ]
  },
  {
   "cell_type": "code",
   "execution_count": null,
   "metadata": {},
   "outputs": [],
   "source": [
    "# Gradient Boosting Classifier\n",
    "\n",
    "params={\n",
    "       \"learning_rate\": [1],\n",
    "      \"min_samples_split\": [50, 10, 2],\n",
    "       \"min_samples_leaf\": [1, 5, 10],\n",
    "       \"max_depth\":[3,4,5],\n",
    "       \"subsample\":[0.5, 1.0],\n",
    "       \"n_estimators\":[10, 50, 100],\n",
    "       \"random_state\":[42]}\n",
    "\n",
    "grid_searcher = RandomizedSearchCV(GradientBoostingClassifier(), params, n_iter=10)\n",
    "grid_searcher.fit(X_train_os_pca, y_train_os)\n",
    "gbc = grid_searcher\n",
    "print(grid_searcher.best_estimator_)\n",
    "plot_result_smote_pca_tuned(gbc, \"gbc\")"
   ]
  },
  {
   "cell_type": "code",
   "execution_count": null,
   "metadata": {},
   "outputs": [],
   "source": [
    "# Naive Bayes has no tuning\n",
    "nb = GaussianNB()\n",
    "plot_result_smote_pca_tuned(nb, \"nb\")"
   ]
  },
  {
   "cell_type": "code",
   "execution_count": null,
   "metadata": {},
   "outputs": [],
   "source": [
    "# kNN\n",
    "params = {'n_neighbors':[2, 3, 5],\n",
    "         'algorithm' : ['auto', 'ball_tree', 'kd_tree', 'brute']}\n",
    "\n",
    "grid_searcher = GridSearchCV(KNeighborsClassifier(), params)\n",
    "grid_searcher.fit(X_train_os_pca, y_train_os)\n",
    "knn = grid_searcher\n",
    "print(grid_searcher.best_estimator_)\n",
    "plot_result_smote_pca_tuned(grid_searcher.best_estimator_, \"knn\")"
   ]
  },
  {
   "cell_type": "code",
   "execution_count": null,
   "metadata": {},
   "outputs": [],
   "source": [
    "# XGBOOST\n",
    "params = {\"n_estimators\": [100, 300],\n",
    "          \"subsample\":[0.5,0.8,1],\n",
    "          \"max_depth\":[15,25],\n",
    "          \"learning_rate\":[0.01,0.1,0.3]}\n",
    "\n",
    "grid_searcher = GridSearchCV(XGBClassifier(), params)\n",
    "grid_searcher.fit(X_train_os_pca, y_train_os)\n",
    "xgb = grid_searcher\n",
    "print(grid_searcher.best_estimator_)\n",
    "plot_result_smote_pca_tuned(grid_searcher.best_estimator_, \"xgb\")\n",
    "\n",
    "# xgb = XGBClassifier(eval_metric = \"logloss\",n_estimators=25, learning_rate=0.01,  max_depth=3, random_state=42)\n",
    "# plot_result_smote_pca_tuned(xgb, \"xgb\");"
   ]
  },
  {
   "cell_type": "code",
   "execution_count": null,
   "metadata": {},
   "outputs": [],
   "source": [
    "cv_AUC_balance_PCA_tuned = AUC(cv_AUC_balance_PCA_tuned)"
   ]
  },
  {
   "cell_type": "code",
   "execution_count": null,
   "metadata": {},
   "outputs": [],
   "source": [
    "df_eval_smote_pca_tuned = pd.DataFrame(data={'model': list(cv_acc_balance_PCA_train_tuned.keys()), \n",
    "                                               'bal_acc_train':list(cv_acc_balance_PCA_train_tuned.values()),\n",
    "                                               'bal_acc_test': list(cv_acc_balance_PCA_test_tuned.values()),\n",
    "                                               'recall': list(cv_TPR_balance_PCA_tuned.values()), \n",
    "                                               'fallout':list(cv_FPR_balance_PCA_tuned.values()),\n",
    "                                                'AUC': list(cv_AUC_balance_PCA_tuned.values())}).round(2)\n",
    "df_eval_smote_pca_tuned"
   ]
  },
  {
   "cell_type": "code",
   "execution_count": null,
   "metadata": {},
   "outputs": [],
   "source": [
    "fig, ax = plt.subplots(5,4, figsize=(20, 20))\n",
    "\n",
    "sns.barplot(x=\"bal_acc_train\", y=\"model\", data=df_eval.sort_values(by=\"recall\"), ax=ax[0,0])\n",
    "ax[0,0].set_title(\"Unbalanced Train Acc\")\n",
    "sns.barplot(x=\"bal_acc_test\", y=\"model\", data=df_eval.sort_values(by=\"recall\"), ax=ax[0,1])\n",
    "ax[0,1].set_title(\"Unbalanced Test Acc\")\n",
    "sns.barplot(x=\"recall\", y=\"model\", data=df_eval.sort_values(by=\"recall\"), ax=ax[0,2])\n",
    "ax[0,2].set_title(\"Unbalanced Test TPR\")\n",
    "sns.barplot(x=\"fallout\", y=\"model\", data=df_eval.sort_values(by=\"recall\"), ax=ax[0,3])\n",
    "ax[0,3].set_title(\"Unbalanced Test FPR\")\n",
    "\n",
    "sns.barplot(x=\"bal_acc_train\", y=\"model\", data=df_eval_smote.sort_values(by=\"recall\"), ax=ax[1,0])\n",
    "ax[1,0].set_title(\"Smote Model Train Acc\")\n",
    "sns.barplot(x=\"bal_acc_test\", y=\"model\", data=df_eval_smote.sort_values(by=\"recall\"), ax=ax[1,1])\n",
    "ax[1,1].set_title(\"Smote Model Test Acc\")\n",
    "sns.barplot(x=\"recall\", y=\"model\", data=df_eval_smote.sort_values(by=\"recall\"), ax=ax[1,2])\n",
    "ax[1,2].set_title(\"Smote Model Test TPR\")\n",
    "sns.barplot(x=\"fallout\", y=\"model\", data=df_eval_smote.sort_values(by=\"recall\"), ax=ax[1,3])\n",
    "ax[1,3].set_title(\"Smote Model Test FPR\")\n",
    "\n",
    "sns.barplot(x=\"bal_acc_train\", y=\"model\", data=df_eval_rus.sort_values(by=\"recall\"), ax=ax[2,0])\n",
    "ax[2,0].set_title(\"RUS_Featured Model Test Acc\")\n",
    "sns.barplot(x=\"bal_acc_test\", y=\"model\", data=df_eval_rus.sort_values(by=\"recall\"), ax=ax[2,1])\n",
    "ax[2,1].set_title(\"RUS_Featured Model Test Acc\")\n",
    "sns.barplot(x=\"recall\", y=\"model\", data=df_eval_rus.sort_values(by=\"recall\"), ax=ax[2,2])\n",
    "ax[2,2].set_title(\"RUS_Featured Model Test TPR\")\n",
    "sns.barplot(x=\"fallout\", y=\"model\", data=df_eval_rus.sort_values(by=\"recall\"), ax=ax[2,3])\n",
    "ax[2,3].set_title(\"RUS_Featured Model Test FPR\")\n",
    "\n",
    "sns.barplot(x=\"bal_acc_train\", y=\"model\", data=df_eval_smote_pca.sort_values(by=\"recall\"), ax=ax[3,0])\n",
    "ax[3,0].set_title(\"Smoted_PCA Model Train Acc\")\n",
    "sns.barplot(x=\"bal_acc_test\", y=\"model\", data=df_eval_smote_pca.sort_values(by=\"recall\"), ax=ax[3,1])\n",
    "ax[3,1].set_title(\"Smoted_PCA Model Test Acc\")\n",
    "sns.barplot(x=\"recall\", y=\"model\", data=df_eval_smote_pca.sort_values(by=\"recall\"), ax=ax[3,2])\n",
    "ax[3,2].set_title(\"Smoted_PCA Model Test TPR\")\n",
    "sns.barplot(x=\"fallout\", y=\"model\", data=df_eval_smote_pca.sort_values(by=\"recall\"), ax=ax[3,3])\n",
    "ax[3,3].set_title(\"Smoted_PCA Model Test FPR\")\n",
    "\n",
    "sns.barplot(x=\"bal_acc_train\", y=\"model\", data=df_eval_smote_pca_tuned.sort_values(by=\"recall\"), ax=ax[4,0])\n",
    "ax[4,0].set_title(\"Smoted_PCA_Tuned Model Train Acc\")\n",
    "sns.barplot(x=\"bal_acc_test\", y=\"model\", data=df_eval_smote_pca_tuned.sort_values(by=\"recall\"), ax=ax[4,1])\n",
    "ax[4,1].set_title(\"Smoted_PCA_Tuned Model Test Acc\")\n",
    "sns.barplot(x=\"recall\", y=\"model\", data=df_eval_smote_pca_tuned.sort_values(by=\"recall\"), ax=ax[4,2])\n",
    "ax[4,2].set_title(\"Smoted_PCA_Tuned Model Test TPR\")\n",
    "sns.barplot(x=\"fallout\", y=\"model\", data=df_eval_smote_pca_tuned.sort_values(by=\"recall\"), ax=ax[4,3])\n",
    "ax[4,3].set_title(\"Smoted_PCA_Tuned Model Test FPR\")\n",
    "\n",
    "plt.tight_layout()\n",
    "plt.show()"
   ]
  },
  {
   "cell_type": "code",
   "execution_count": null,
   "metadata": {},
   "outputs": [],
   "source": [
    "df_eval_smote_pca_tuned[\"type\"] = \"Smote_PCA_Tuned\""
   ]
  },
  {
   "cell_type": "code",
   "execution_count": null,
   "metadata": {},
   "outputs": [],
   "source": [
    "frames = [df_eval, df_eval_smote, df_eval_rus, df_eval_smote_pca, df_eval_smote_pca_tuned]\n",
    "df_result = pd.concat(frames, ignore_index=True)\n",
    "df_result['model'] = df_result['model'].str.upper()\n",
    "df_result[[\"recall\", \"fallout\", \"bal_acc_train\", \"bal_acc_test\",'AUC']] = df_result[[\"recall\", \"fallout\",  \"bal_acc_train\", \"bal_acc_test\",'AUC']].apply(lambda x: np.round(x, 2))\n",
    "df_result"
   ]
  },
  {
   "cell_type": "code",
   "execution_count": null,
   "metadata": {},
   "outputs": [],
   "source": [
    "sns.relplot(x=\"recall\", y=\"AUC\", hue=\"model\", size=\"bal_acc_test\", \n",
    "            sizes=(40, 400), col=\"type\", alpha=1, palette=\"bright\", height=5, legend='full', data=df_result)"
   ]
  },
  {
   "cell_type": "markdown",
   "metadata": {},
   "source": [
    "The tunned GradientBoost Model didnt give a better result."
   ]
  },
  {
   "cell_type": "markdown",
   "metadata": {},
   "source": [
    "#  Summary: \n",
    "* In this project the diabetic_data.csv dataset was analyzed by machine learning methods with 5 iterations as a classification. For each iteration one tried little by little to achieve a better model result. \n",
    "* 8 different algorithms (DecisionTree, Logistic Regression, Random Forest, Gradient Boost, NaiveBayes, Nearest Centroid, XGBOOST and kNearestNeigbour) were used. \n",
    "* After the data cleaning and EDA process, the data set was scaled with StandartScaler because there were many large and small features. After that, something special (oversampling, FeatureSelection, FeatureExtraction, HyperParameter optimization) was applied in each iteration. \n",
    "* In the end, GradientBoost with only undersampled and scaled data set gave better results."
   ]
  },
  {
   "cell_type": "code",
   "execution_count": null,
   "metadata": {},
   "outputs": [],
   "source": []
  }
 ],
 "metadata": {
  "kernelspec": {
   "display_name": "Python 3 (ipykernel)",
   "language": "python",
   "name": "python3"
  },
  "language_info": {
   "codemirror_mode": {
    "name": "ipython",
    "version": 3
   },
   "file_extension": ".py",
   "mimetype": "text/x-python",
   "name": "python",
   "nbconvert_exporter": "python",
   "pygments_lexer": "ipython3",
   "version": "3.8.8"
  }
 },
 "nbformat": 4,
 "nbformat_minor": 4
}
